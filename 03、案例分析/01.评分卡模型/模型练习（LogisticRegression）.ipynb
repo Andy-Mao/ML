{
 "cells": [
  {
   "cell_type": "code",
   "execution_count": 1,
   "id": "e73b6428",
   "metadata": {},
   "outputs": [
    {
     "name": "stderr",
     "output_type": "stream",
     "text": [
      "D:\\Anaconda3\\lib\\site-packages\\scipy\\__init__.py:138: UserWarning: A NumPy version >=1.16.5 and <1.23.0 is required for this version of SciPy (detected version 1.24.4)\n",
      "  warnings.warn(f\"A NumPy version >={np_minversion} and <{np_maxversion} is required for this version of \"\n"
     ]
    }
   ],
   "source": [
    "import numpy as np\n",
    "import pandas as pd\n",
    "import matplotlib.pyplot as plt\n",
    "import seaborn as sns\n",
    "\n",
    "from sklearn.model_selection import train_test_split\n",
    "\n",
    "from sklearn.ensemble import RandomForestRegressor\n",
    "from sklearn.tree import DecisionTreeClassifier\n",
    "from scipy.stats import stats \n",
    "\n",
    "from sklearn.linear_model import LogisticRegression\n",
    "\n",
    "import warnings\n",
    "warnings.filterwarnings('ignore')\n",
    "plt.rcParams['font.family']='Microsoft YaHei' \n",
    "\n",
    "# import toad"
   ]
  },
  {
   "cell_type": "code",
   "execution_count": 24,
   "id": "a4c43853",
   "metadata": {},
   "outputs": [],
   "source": [
    "loan=pd.read_csv(\"cs-training.csv\")\n",
    "loan=loan.drop(['Unnamed: 0'],axis=1)"
   ]
  },
  {
   "cell_type": "code",
   "execution_count": 25,
   "id": "7c97c446",
   "metadata": {},
   "outputs": [
    {
     "name": "stdout",
     "output_type": "stream",
     "text": [
      "<class 'pandas.core.frame.DataFrame'>\n",
      "RangeIndex: 150000 entries, 0 to 149999\n",
      "Data columns (total 11 columns):\n",
      " #   Column                                Non-Null Count   Dtype  \n",
      "---  ------                                --------------   -----  \n",
      " 0   SeriousDlqin2yrs                      150000 non-null  int64  \n",
      " 1   RevolvingUtilizationOfUnsecuredLines  150000 non-null  float64\n",
      " 2   age                                   150000 non-null  int64  \n",
      " 3   NumberOfTime30-59DaysPastDueNotWorse  150000 non-null  int64  \n",
      " 4   DebtRatio                             150000 non-null  float64\n",
      " 5   MonthlyIncome                         120269 non-null  float64\n",
      " 6   NumberOfOpenCreditLinesAndLoans       150000 non-null  int64  \n",
      " 7   NumberOfTimes90DaysLate               150000 non-null  int64  \n",
      " 8   NumberRealEstateLoansOrLines          150000 non-null  int64  \n",
      " 9   NumberOfTime60-89DaysPastDueNotWorse  150000 non-null  int64  \n",
      " 10  NumberOfDependents                    146076 non-null  float64\n",
      "dtypes: float64(4), int64(7)\n",
      "memory usage: 12.6 MB\n"
     ]
    }
   ],
   "source": [
    "loan.info()"
   ]
  },
  {
   "cell_type": "markdown",
   "id": "5e55f06c",
   "metadata": {},
   "source": [
    "#### 字段解释"
   ]
  },
  {
   "cell_type": "code",
   "execution_count": 5,
   "id": "f282d58a",
   "metadata": {},
   "outputs": [],
   "source": [
    "# SeriousDlqin2yrs\t借款人是否逾期90天或更长时间\t标签（Y/N）\tLabel\n",
    "# RevolvingUtilizationOfUnsecuredLines\t无担保信贷额度除以总额度\t百分比\tRevolvingRatio\n",
    "# age\t借款人年龄\t整型\tAge\n",
    "# NumberOfTime30-59DaysPastDueNotWorse\t借款人过去两年逾期在30-59天的次数\t整型\t30-59D\n",
    "# DebtRatio\t每月的负债比率\t百分比\tDebtRatio\n",
    "# MonthlyIncome\t月收入\t浮点型\tMonthlyIncome\n",
    "# NumberOfOpenCreditLinesAndLoans\t未结贷款（如车贷或抵押贷款等）和信用额度（如信用卡）的数量\t整型\tOpenL\n",
    "# NumberOfTimes90DaysLate\t借款人已逾期90天以上的次数\t整型\t90D\n",
    "# NumberRealEstateLoansOrLines\t抵押和房地产贷款（包括房屋净值信用额度）\t整型\tRealEstate\n",
    "# NumberOfTime60-89DaysPastDueNotWorse\t借款人过去两年逾期在60-89天的次数\t整型\t60-89D\n",
    "# NumberOfDependents\t除本人以外的家属人数（配偶、子女等）\t整型\tDependents"
   ]
  },
  {
   "cell_type": "code",
   "execution_count": 26,
   "id": "f5c5c5c0",
   "metadata": {},
   "outputs": [],
   "source": [
    "loan.columns=['Label', 'RevolvingRatio', 'Age', '30-59D', 'DebtRatio', 'MonthlyIncome',\n",
    "                'OpenL', '90D', 'RealEstate', '60-89D', 'Dependents'] "
   ]
  },
  {
   "cell_type": "markdown",
   "id": "8523a664",
   "metadata": {},
   "source": [
    "## 2. 数据预处理"
   ]
  },
  {
   "cell_type": "markdown",
   "id": "75cf31b2",
   "metadata": {},
   "source": [
    "### 2.1 缺失值预处理\n",
    "\n",
    "#### 2.1.1 字符型变量\n",
    "* （1）利用众数填充;  \n",
    "* （2）缺失数据占比较少，直接删除所在行数据；  \n",
    "* （3）缺失数据占比较多，直接删除该变量；  \n",
    "* （4）可不做处理，分箱时可单独作为一个箱体。\n",
    "\n",
    "#### 2.1.2 数值型变量\n",
    "* （1）利用均值/众数填充；  \n",
    "* （2）利用模型预测值填充；  \n",
    "* （3）缺失数据占比较少，直接删除所在行数据；  \n",
    "* （4）缺失数据占比较多，直接删除该变量；"
   ]
  },
  {
   "cell_type": "code",
   "execution_count": 7,
   "id": "777ac6d3",
   "metadata": {},
   "outputs": [
    {
     "data": {
      "text/html": [
       "<div>\n",
       "<style scoped>\n",
       "    .dataframe tbody tr th:only-of-type {\n",
       "        vertical-align: middle;\n",
       "    }\n",
       "\n",
       "    .dataframe tbody tr th {\n",
       "        vertical-align: top;\n",
       "    }\n",
       "\n",
       "    .dataframe thead th {\n",
       "        text-align: right;\n",
       "    }\n",
       "</style>\n",
       "<table border=\"1\" class=\"dataframe\">\n",
       "  <thead>\n",
       "    <tr style=\"text-align: right;\">\n",
       "      <th></th>\n",
       "      <th>Label</th>\n",
       "      <th>RevolvingRatio</th>\n",
       "      <th>Age</th>\n",
       "      <th>30-59D</th>\n",
       "      <th>DebtRatio</th>\n",
       "      <th>MonthlyIncome</th>\n",
       "      <th>OpenL</th>\n",
       "      <th>90D</th>\n",
       "      <th>RealEstate</th>\n",
       "      <th>60-89D</th>\n",
       "      <th>Dependents</th>\n",
       "    </tr>\n",
       "  </thead>\n",
       "  <tbody>\n",
       "    <tr>\n",
       "      <th>count</th>\n",
       "      <td>150000.000000</td>\n",
       "      <td>150000.000000</td>\n",
       "      <td>150000.000000</td>\n",
       "      <td>150000.000000</td>\n",
       "      <td>150000.000000</td>\n",
       "      <td>1.202690e+05</td>\n",
       "      <td>150000.000000</td>\n",
       "      <td>150000.000000</td>\n",
       "      <td>150000.000000</td>\n",
       "      <td>150000.000000</td>\n",
       "      <td>146076.000000</td>\n",
       "    </tr>\n",
       "    <tr>\n",
       "      <th>mean</th>\n",
       "      <td>0.066840</td>\n",
       "      <td>6.048438</td>\n",
       "      <td>52.295207</td>\n",
       "      <td>0.421033</td>\n",
       "      <td>353.005076</td>\n",
       "      <td>6.670221e+03</td>\n",
       "      <td>8.452760</td>\n",
       "      <td>0.265973</td>\n",
       "      <td>1.018240</td>\n",
       "      <td>0.240387</td>\n",
       "      <td>0.757222</td>\n",
       "    </tr>\n",
       "    <tr>\n",
       "      <th>std</th>\n",
       "      <td>0.249746</td>\n",
       "      <td>249.755371</td>\n",
       "      <td>14.771866</td>\n",
       "      <td>4.192781</td>\n",
       "      <td>2037.818523</td>\n",
       "      <td>1.438467e+04</td>\n",
       "      <td>5.145951</td>\n",
       "      <td>4.169304</td>\n",
       "      <td>1.129771</td>\n",
       "      <td>4.155179</td>\n",
       "      <td>1.115086</td>\n",
       "    </tr>\n",
       "    <tr>\n",
       "      <th>min</th>\n",
       "      <td>0.000000</td>\n",
       "      <td>0.000000</td>\n",
       "      <td>0.000000</td>\n",
       "      <td>0.000000</td>\n",
       "      <td>0.000000</td>\n",
       "      <td>0.000000e+00</td>\n",
       "      <td>0.000000</td>\n",
       "      <td>0.000000</td>\n",
       "      <td>0.000000</td>\n",
       "      <td>0.000000</td>\n",
       "      <td>0.000000</td>\n",
       "    </tr>\n",
       "    <tr>\n",
       "      <th>25%</th>\n",
       "      <td>0.000000</td>\n",
       "      <td>0.029867</td>\n",
       "      <td>41.000000</td>\n",
       "      <td>0.000000</td>\n",
       "      <td>0.175074</td>\n",
       "      <td>3.400000e+03</td>\n",
       "      <td>5.000000</td>\n",
       "      <td>0.000000</td>\n",
       "      <td>0.000000</td>\n",
       "      <td>0.000000</td>\n",
       "      <td>0.000000</td>\n",
       "    </tr>\n",
       "    <tr>\n",
       "      <th>50%</th>\n",
       "      <td>0.000000</td>\n",
       "      <td>0.154181</td>\n",
       "      <td>52.000000</td>\n",
       "      <td>0.000000</td>\n",
       "      <td>0.366508</td>\n",
       "      <td>5.400000e+03</td>\n",
       "      <td>8.000000</td>\n",
       "      <td>0.000000</td>\n",
       "      <td>1.000000</td>\n",
       "      <td>0.000000</td>\n",
       "      <td>0.000000</td>\n",
       "    </tr>\n",
       "    <tr>\n",
       "      <th>75%</th>\n",
       "      <td>0.000000</td>\n",
       "      <td>0.559046</td>\n",
       "      <td>63.000000</td>\n",
       "      <td>0.000000</td>\n",
       "      <td>0.868254</td>\n",
       "      <td>8.249000e+03</td>\n",
       "      <td>11.000000</td>\n",
       "      <td>0.000000</td>\n",
       "      <td>2.000000</td>\n",
       "      <td>0.000000</td>\n",
       "      <td>1.000000</td>\n",
       "    </tr>\n",
       "    <tr>\n",
       "      <th>max</th>\n",
       "      <td>1.000000</td>\n",
       "      <td>50708.000000</td>\n",
       "      <td>109.000000</td>\n",
       "      <td>98.000000</td>\n",
       "      <td>329664.000000</td>\n",
       "      <td>3.008750e+06</td>\n",
       "      <td>58.000000</td>\n",
       "      <td>98.000000</td>\n",
       "      <td>54.000000</td>\n",
       "      <td>98.000000</td>\n",
       "      <td>20.000000</td>\n",
       "    </tr>\n",
       "  </tbody>\n",
       "</table>\n",
       "</div>"
      ],
      "text/plain": [
       "               Label  RevolvingRatio            Age         30-59D  \\\n",
       "count  150000.000000   150000.000000  150000.000000  150000.000000   \n",
       "mean        0.066840        6.048438      52.295207       0.421033   \n",
       "std         0.249746      249.755371      14.771866       4.192781   \n",
       "min         0.000000        0.000000       0.000000       0.000000   \n",
       "25%         0.000000        0.029867      41.000000       0.000000   \n",
       "50%         0.000000        0.154181      52.000000       0.000000   \n",
       "75%         0.000000        0.559046      63.000000       0.000000   \n",
       "max         1.000000    50708.000000     109.000000      98.000000   \n",
       "\n",
       "           DebtRatio  MonthlyIncome          OpenL            90D  \\\n",
       "count  150000.000000   1.202690e+05  150000.000000  150000.000000   \n",
       "mean      353.005076   6.670221e+03       8.452760       0.265973   \n",
       "std      2037.818523   1.438467e+04       5.145951       4.169304   \n",
       "min         0.000000   0.000000e+00       0.000000       0.000000   \n",
       "25%         0.175074   3.400000e+03       5.000000       0.000000   \n",
       "50%         0.366508   5.400000e+03       8.000000       0.000000   \n",
       "75%         0.868254   8.249000e+03      11.000000       0.000000   \n",
       "max    329664.000000   3.008750e+06      58.000000      98.000000   \n",
       "\n",
       "          RealEstate         60-89D     Dependents  \n",
       "count  150000.000000  150000.000000  146076.000000  \n",
       "mean        1.018240       0.240387       0.757222  \n",
       "std         1.129771       4.155179       1.115086  \n",
       "min         0.000000       0.000000       0.000000  \n",
       "25%         0.000000       0.000000       0.000000  \n",
       "50%         1.000000       0.000000       0.000000  \n",
       "75%         2.000000       0.000000       1.000000  \n",
       "max        54.000000      98.000000      20.000000  "
      ]
     },
     "execution_count": 7,
     "metadata": {},
     "output_type": "execute_result"
    }
   ],
   "source": [
    "loan.describe()\n",
    "# MonthlyIncome与Dependents有缺失值"
   ]
  },
  {
   "cell_type": "code",
   "execution_count": 8,
   "id": "2deea0bd",
   "metadata": {},
   "outputs": [
    {
     "data": {
      "text/html": [
       "<div>\n",
       "<style scoped>\n",
       "    .dataframe tbody tr th:only-of-type {\n",
       "        vertical-align: middle;\n",
       "    }\n",
       "\n",
       "    .dataframe tbody tr th {\n",
       "        vertical-align: top;\n",
       "    }\n",
       "\n",
       "    .dataframe thead th {\n",
       "        text-align: right;\n",
       "    }\n",
       "</style>\n",
       "<table border=\"1\" class=\"dataframe\">\n",
       "  <thead>\n",
       "    <tr style=\"text-align: right;\">\n",
       "      <th></th>\n",
       "      <th>feature</th>\n",
       "      <th>miss_num</th>\n",
       "      <th>miss_rate</th>\n",
       "    </tr>\n",
       "  </thead>\n",
       "  <tbody>\n",
       "    <tr>\n",
       "      <th>0</th>\n",
       "      <td>MonthlyIncome</td>\n",
       "      <td>29731</td>\n",
       "      <td>0.198207</td>\n",
       "    </tr>\n",
       "    <tr>\n",
       "      <th>1</th>\n",
       "      <td>Dependents</td>\n",
       "      <td>3924</td>\n",
       "      <td>0.026160</td>\n",
       "    </tr>\n",
       "    <tr>\n",
       "      <th>2</th>\n",
       "      <td>Label</td>\n",
       "      <td>0</td>\n",
       "      <td>0.000000</td>\n",
       "    </tr>\n",
       "    <tr>\n",
       "      <th>3</th>\n",
       "      <td>RevolvingRatio</td>\n",
       "      <td>0</td>\n",
       "      <td>0.000000</td>\n",
       "    </tr>\n",
       "    <tr>\n",
       "      <th>4</th>\n",
       "      <td>Age</td>\n",
       "      <td>0</td>\n",
       "      <td>0.000000</td>\n",
       "    </tr>\n",
       "    <tr>\n",
       "      <th>5</th>\n",
       "      <td>30-59D</td>\n",
       "      <td>0</td>\n",
       "      <td>0.000000</td>\n",
       "    </tr>\n",
       "    <tr>\n",
       "      <th>6</th>\n",
       "      <td>DebtRatio</td>\n",
       "      <td>0</td>\n",
       "      <td>0.000000</td>\n",
       "    </tr>\n",
       "    <tr>\n",
       "      <th>7</th>\n",
       "      <td>OpenL</td>\n",
       "      <td>0</td>\n",
       "      <td>0.000000</td>\n",
       "    </tr>\n",
       "    <tr>\n",
       "      <th>8</th>\n",
       "      <td>90D</td>\n",
       "      <td>0</td>\n",
       "      <td>0.000000</td>\n",
       "    </tr>\n",
       "    <tr>\n",
       "      <th>9</th>\n",
       "      <td>RealEstate</td>\n",
       "      <td>0</td>\n",
       "      <td>0.000000</td>\n",
       "    </tr>\n",
       "    <tr>\n",
       "      <th>10</th>\n",
       "      <td>60-89D</td>\n",
       "      <td>0</td>\n",
       "      <td>0.000000</td>\n",
       "    </tr>\n",
       "  </tbody>\n",
       "</table>\n",
       "</div>"
      ],
      "text/plain": [
       "           feature  miss_num  miss_rate\n",
       "0    MonthlyIncome     29731   0.198207\n",
       "1       Dependents      3924   0.026160\n",
       "2            Label         0   0.000000\n",
       "3   RevolvingRatio         0   0.000000\n",
       "4              Age         0   0.000000\n",
       "5           30-59D         0   0.000000\n",
       "6        DebtRatio         0   0.000000\n",
       "7            OpenL         0   0.000000\n",
       "8              90D         0   0.000000\n",
       "9       RealEstate         0   0.000000\n",
       "10          60-89D         0   0.000000"
      ]
     },
     "execution_count": 8,
     "metadata": {},
     "output_type": "execute_result"
    }
   ],
   "source": [
    "# 查看数据缺失情况\n",
    "missing=loan.isnull().sum().sort_values(ascending=False).reset_index()\n",
    "missing.columns=['feature','miss_num']\n",
    "missing['miss_rate']=missing['miss_num']/loan.shape[0]\n",
    "missing"
   ]
  },
  {
   "cell_type": "markdown",
   "id": "9f0fc1db",
   "metadata": {},
   "source": [
    "* MonthlyIncome为家庭月收入，连续型数值变量，可用均值或者模型预测值填充缺失值  "
   ]
  },
  {
   "cell_type": "code",
   "execution_count": 9,
   "id": "9e67400d",
   "metadata": {
    "scrolled": true
   },
   "outputs": [],
   "source": [
    "# - - - - - - - 1、利用均值填充 - - - - - - -\n",
    "# loan['MonthlyIncome'].fillna(loan['MonthlyIncome'].mean(),inplace=True)"
   ]
  },
  {
   "cell_type": "code",
   "execution_count": 10,
   "id": "acf022b8",
   "metadata": {
    "scrolled": true
   },
   "outputs": [],
   "source": [
    "# - - - - - - - 2、利用模型预测值填充 - - - - - - -\n",
    "\n",
    "# 选取MonthlyIncome和其他非缺失变量作为训练模型数据\n",
    "income=loan.iloc[:,[5,1,2,3,4,6,7,8,9]]\n",
    "\n",
    "# MonthlyIncome非空作为训练集\n",
    "income_train=income.loc[income['MonthlyIncome'].notnull()]\n",
    "# MonthlyIncome为空作为测试集\n",
    "income_test=income.loc[income['MonthlyIncome'].isnull()]\n",
    "\n",
    "# MonthlyIncome作为模型因变量，其他非缺失变量作为模型自变量\n",
    "X=income_train.iloc[:,1:]\n",
    "Y=income_train.iloc[:,0]\n",
    "\n",
    "RFR=RandomForestRegressor(random_state=0,n_estimators=200,max_depth=3,n_jobs=-1)\n",
    "RFR.fit(X,Y)\n",
    "\n",
    "income_pred=RFR.predict(income_test.iloc[:,1:])\n",
    "loan.loc[loan['MonthlyIncome'].isnull(),'MonthlyIncome']=income_pred"
   ]
  },
  {
   "cell_type": "markdown",
   "id": "449a3813",
   "metadata": {},
   "source": [
    "*  Dependents为家属人数，数值型变量，用众数填充缺失值"
   ]
  },
  {
   "cell_type": "code",
   "execution_count": 11,
   "id": "37ff8bd2",
   "metadata": {},
   "outputs": [],
   "source": [
    "loan['Dependents'].fillna(loan['Dependents'].mode()[0],inplace=True)"
   ]
  },
  {
   "cell_type": "markdown",
   "id": "b5f571fa",
   "metadata": {},
   "source": [
    "### 2.2 异常值预处理\n",
    "\n",
    "#### 2.2.1 字符型变量\n",
    "* （1）异常数据占比较少，直接删除所在行数据；    \n",
    "* （2）利用均值/众数填充；  \n",
    "* （3）可不做处理，分箱时可单独作为一个箱体。  \n",
    "\n",
    "#### 2.2.2 数值型变量\n",
    "* （1）异常数据占比较少，直接删除所在行数据；  \n",
    "* （2）利用均值/众数填充；   \n",
    "* （3）可不做处理，利用分箱可将异常值包含在内"
   ]
  },
  {
   "cell_type": "code",
   "execution_count": 12,
   "id": "ccf662da",
   "metadata": {},
   "outputs": [
    {
     "data": {
      "image/png": "[encoded data removed]",
      "text/plain": [
       "<Figure size 1080x288 with 2 Axes>"
      ]
     },
     "metadata": {
      "needs_background": "light"
     },
     "output_type": "display_data"
    }
   ],
   "source": [
    "fig=plt.figure(figsize=(15,4))\n",
    "ax1=fig.add_subplot(211)\n",
    "ax1.boxplot(loan['RevolvingRatio'],vert=False,showmeans=True,flierprops = {\"marker\":\"o\",\"markerfacecolor\":\"steelblue\"})\n",
    "ax1.set_title('RevolvingRatio')\n",
    "\n",
    "ax2=fig.add_subplot(212)\n",
    "ax2.boxplot(loan['DebtRatio'],vert=False,showmeans=True,flierprops = {\"marker\":\"o\",\"markerfacecolor\":\"steelblue\"})\n",
    "ax2.set_title('DebtRatio')\n",
    "\n",
    "plt.tight_layout(pad=1.5)\n",
    "plt.show()"
   ]
  },
  {
   "cell_type": "code",
   "execution_count": 13,
   "id": "e89136ef",
   "metadata": {},
   "outputs": [
    {
     "data": {
      "image/png": "[encoded data removed]",
      "text/plain": [
       "<Figure size 1080x432 with 3 Axes>"
      ]
     },
     "metadata": {
      "needs_background": "light"
     },
     "output_type": "display_data"
    }
   ],
   "source": [
    "fig=plt.figure(figsize=(15,6))\n",
    "ax1=fig.add_subplot(311)\n",
    "ax1.boxplot(loan['30-59D'],vert=False,showmeans=True,flierprops = {\"marker\":\"o\",\"markerfacecolor\":\"steelblue\"})\n",
    "ax1.set_title('30-59D')\n",
    "\n",
    "ax2=fig.add_subplot(312)\n",
    "ax2.boxplot(loan['60-89D'],vert=False,showmeans=True,flierprops = {\"marker\":\"o\",\"markerfacecolor\":\"steelblue\"})\n",
    "ax2.set_title('60-89D')\n",
    "\n",
    "ax3=fig.add_subplot(313)\n",
    "ax3.boxplot(loan['90D'],vert=False,showmeans=True,flierprops = {\"marker\":\"o\",\"markerfacecolor\":\"steelblue\"})\n",
    "ax3.set_title('90D')\n",
    "\n",
    "plt.tight_layout(pad=1.5)\n",
    "plt.show()"
   ]
  },
  {
   "cell_type": "code",
   "execution_count": 14,
   "id": "b0644d6e",
   "metadata": {},
   "outputs": [
    {
     "data": {
      "image/png": "[encoded data removed]",
      "text/plain": [
       "<Figure size 1080x288 with 2 Axes>"
      ]
     },
     "metadata": {
      "needs_background": "light"
     },
     "output_type": "display_data"
    }
   ],
   "source": [
    "fig=plt.figure(figsize=(15,4))\n",
    "ax1=fig.add_subplot(211)\n",
    "ax1.boxplot(loan['Age'],vert=False\n",
    "            ,showmeans=True\n",
    "#             ,showbox=True\n",
    "            ,meanprops={'color': 'blue', 'linewidth': '1.5'}\n",
    "            ,medianprops={'color': 'black', 'linewidth': '1.5'}\n",
    "            ,flierprops={\"marker\": \"o\", \"markerfacecolor\": \"red\", \"markersize\": 10})\n",
    "ax1.set_title('Age')\n",
    "\n",
    "ax2=fig.add_subplot(212)\n",
    "ax2.boxplot(loan['Dependents']\n",
    "            ,vert=False\n",
    "            ,showmeans=True\n",
    "            ,flierprops={\"marker\": \"o\", \"markerfacecolor\": \"red\", \"markersize\": 10})\n",
    "ax2.set_title('Dependents')\n",
    "\n",
    "plt.tight_layout(pad=1.5)\n",
    "plt.show()"
   ]
  },
  {
   "cell_type": "code",
   "execution_count": 15,
   "id": "93297285",
   "metadata": {},
   "outputs": [
    {
     "data": {
      "image/png": "[encoded data removed]",
      "text/plain": [
       "<Figure size 1080x432 with 3 Axes>"
      ]
     },
     "metadata": {
      "needs_background": "light"
     },
     "output_type": "display_data"
    }
   ],
   "source": [
    "fig=plt.figure(figsize=(15,6))\n",
    "ax1=fig.add_subplot(311)\n",
    "ax1.boxplot(loan['MonthlyIncome'],vert=False,showmeans=True,flierprops = {\"marker\":\"o\",\"markerfacecolor\":\"steelblue\"})\n",
    "ax1.set_title('MonthlyIncome')\n",
    "\n",
    "ax2=fig.add_subplot(312)\n",
    "ax2.boxplot(loan['OpenL'],vert=False,showmeans=True,flierprops = {\"marker\":\"o\",\"markerfacecolor\":\"steelblue\"})\n",
    "ax2.set_title('OpenL')\n",
    "\n",
    "ax3=fig.add_subplot(313)\n",
    "ax3.boxplot(loan['RealEstate'],vert=False,showmeans=True,flierprops = {\"marker\":\"o\",\"markerfacecolor\":\"steelblue\"})\n",
    "ax3.set_title('RealEstate')\n",
    "\n",
    "plt.tight_layout(pad=1.5)\n",
    "plt.show()"
   ]
  },
  {
   "cell_type": "markdown",
   "id": "e2ed8e1f",
   "metadata": {},
   "source": [
    "## 3. 相关性分析"
   ]
  },
  {
   "cell_type": "code",
   "execution_count": 16,
   "id": "1e8bc55c",
   "metadata": {},
   "outputs": [
    {
     "data": {
      "text/plain": [
       "<AxesSubplot:>"
      ]
     },
     "execution_count": 16,
     "metadata": {},
     "output_type": "execute_result"
    },
    {
     "data": {
      "image/png": "[encoded data removed]",
      "text/plain": [
       "<Figure size 720x720 with 2 Axes>"
      ]
     },
     "metadata": {
      "needs_background": "light"
     },
     "output_type": "display_data"
    }
   ],
   "source": [
    "feature=loan.columns[:]\n",
    "feature=list(feature)\n",
    "corr=loan[feature].corr()\n",
    "\n",
    "plt.figure(figsize=(10,10))\n",
    "sns.heatmap(corr,square=True,annot=True,cmap=\"YlGnBu\")"
   ]
  },
  {
   "cell_type": "code",
   "execution_count": 17,
   "id": "2d123fe5",
   "metadata": {},
   "outputs": [],
   "source": [
    "# 变量30-59D、60-89D、90D三个直接的相关性很高，根据业务理解可将三个变量相加合成一个变量预期30天以上的次数\n",
    "# loan['D30']=loan['30-59D']+loan['60-89D']+loan['90D']"
   ]
  },
  {
   "cell_type": "code",
   "execution_count": 18,
   "id": "ec982390",
   "metadata": {},
   "outputs": [],
   "source": [
    "loan1=loan.drop(['30-59D','60-89D','90D'],axis=1)"
   ]
  },
  {
   "cell_type": "markdown",
   "id": "c3861de5",
   "metadata": {},
   "source": [
    "## 4. 数据分箱"
   ]
  },
  {
   "cell_type": "code",
   "execution_count": 19,
   "id": "c3f57598",
   "metadata": {},
   "outputs": [],
   "source": [
    "# 计算WOE和IV\n",
    "\n",
    "def cal_woe(Y,X,bins):\n",
    "    \"\"\" 计算卡方值\n",
    "    Args:\n",
    "        Y: 标签值\n",
    "        X：变量值\n",
    "        bins: 变量X的分箱\n",
    "    Returns:\n",
    "        result,woe,iv\n",
    "    \"\"\"\n",
    "    \n",
    "    total_bad = Y.sum()    # 总的坏样本数\n",
    "    total_good = Y.count() - total_bad   # 总的好样本数\n",
    "    \n",
    "    df = pd.DataFrame({'X':X, 'Y':Y, 'bins':pd.cut(X,bins)})\n",
    "\n",
    "    #分组计算好坏样本数\n",
    "    bad=df.query(\"Y==1\").groupby('bins')['Y'].count().reset_index(name='badnum')\n",
    "    good=df.query(\"Y==0\").groupby('bins')['Y'].count().reset_index(name='goodnum')\n",
    "\n",
    "    result=pd.merge(bad,good,on='bins')\n",
    "\n",
    "\n",
    "    result['badrate'] = result['badnum'] / total_bad\n",
    "    result['goodrate'] = result['goodnum'] / total_good\n",
    "    result['woe'] = np.log(result['goodrate'] / result['badrate'])\n",
    "    result['iv']=(result['goodrate'] - result['badrate']) * result['woe']\n",
    "    iv = result['iv'].sum()\n",
    "\n",
    "    # woe值列表\n",
    "    woe = list(result['woe'])\n",
    "    \n",
    "#     print(\"变量{0}的iv值为：{1}\".format(X.name,round(iv,2)))\n",
    "    \n",
    "    plt.figure(figsize=(8,6))\n",
    "    plt.bar(range(result.shape[0]),result['woe'],tick_label=result['bins'],label='WOE')\n",
    "    plt.title(\"{0}(iv={1})\".format(X.name,round(iv,2)))\n",
    "    plt.xticks(rotation=30)\n",
    "    plt.rc('legend', fontsize=10)\n",
    "    plt.legend(loc='best')\n",
    "    plt.show()\n",
    "    \n",
    "    return result,woe,iv"
   ]
  },
  {
   "cell_type": "markdown",
   "id": "5928d00e",
   "metadata": {},
   "source": [
    "### 4.1 卡方分箱"
   ]
  },
  {
   "cell_type": "markdown",
   "id": "5fa49f00",
   "metadata": {},
   "source": [
    "基于卡方检验的连续变量最优分箱，实现步骤如下：  \n",
    "* （1）给定连续变量 V，对V中的值进行排序，然后每个元素值单独一组，完成初始化阶段；  \n",
    "* （2）对相邻的组，两两计算卡方值；  \n",
    "* （3）合并卡方值最小的两组；  \n",
    "* （4）递归迭代步骤2-3，直到满足停止条件。（一般是卡方值都高于设定的阈值，或者达到最大分组数等等）"
   ]
  },
  {
   "cell_type": "code",
   "execution_count": 20,
   "id": "fd4d48b1",
   "metadata": {},
   "outputs": [],
   "source": [
    "# 当变量值的数量比较大的时，应先将数据切分，然后再根据卡方值进行合并"
   ]
  },
  {
   "cell_type": "code",
   "execution_count": 21,
   "id": "7bcf8a82",
   "metadata": {},
   "outputs": [],
   "source": [
    "def cal_chi(freq):\n",
    "    \"\"\" 计算卡方值\n",
    "    Args:\n",
    "        freq: Array，待计算卡方值的二维数组，频数统计结果\n",
    "    Returns:\n",
    "        卡方值，float\n",
    "    \"\"\"\n",
    "    \n",
    "    # 计算每列的频数之和\n",
    "    col_nums = freq.sum(axis=0)\n",
    "    # 计算每行的频数之和\n",
    "    row_nums = freq.sum(axis=1)\n",
    "    # 计算总频数\n",
    "    nums = freq.sum()\n",
    "    # 计算期望频数\n",
    "    E_nums = np.ones(freq.shape) * col_nums / nums\n",
    "    E_nums = (E_nums.T * row_nums).T\n",
    "    # 计算卡方值\n",
    "    tmp_v = (freq - E_nums)**2 / E_nums\n",
    "    # 如果期望频数为0，则计算结果记为0\n",
    "    tmp_v[E_nums==0] = 0\n",
    "    chi_v = tmp_v.sum()\n",
    "    return chi_v\n",
    "\n",
    "\n",
    "def chimerge_cut(data, var, target, max_group=None, chi_threshold=None):\n",
    "    \"\"\" 计算卡方分箱的最优分箱点\n",
    "    Args:\n",
    "        data: DataFrame，待计算卡方分箱最优切分点列表的数据集\n",
    "        var: 待计算的连续型变量名称\n",
    "        target: 待计算的目标列Y的名称\n",
    "        max_group: 最大的分箱数量（因为卡方分箱实际上是合并箱体的过程，需要限制下最大可以保留的分箱数量）\n",
    "        chi_threshold: 卡方阈值，如果没有指定max_group，我们默认选择类别数量-1，置信度95%来设置阈值\n",
    "        \n",
    "    Returns:\n",
    "        最优切分点列表，List\n",
    "    \"\"\"\n",
    "    freq_df = pd.crosstab(index=data[var], columns=data[target])\n",
    "    # 转化为二维数组\n",
    "    freq_array = freq_df.values\n",
    "    \n",
    "    # 初始化箱体，每个元素单独一组\n",
    "    best_bincut = freq_df.index.values\n",
    "    \n",
    "    # 初始化阈值 chi_threshold，如果没有指定 chi_threshold，则默认选择target数量-1，置信度95%来设置阈值\n",
    "    if max_group is None:\n",
    "        if chi_threshold is None:\n",
    "            chi_threshold = chi2.isf(0.05, df = freq_array.shape[-1])\n",
    "    \n",
    "    # 开始迭代\n",
    "    while True:\n",
    "        min_chi = None\n",
    "        min_idx = None\n",
    "        for i in range(len(freq_array) - 1):\n",
    "            # 两两计算相邻两组的卡方值，得到最小卡方值的两组\n",
    "            v = cal_chi(freq_array[i: i+2])\n",
    "            if min_chi is None or min_chi > v:\n",
    "                min_chi = v\n",
    "                min_idx = i\n",
    "        \n",
    "        # 是否继续迭代条件判断\n",
    "        # 条件1：当前箱体数仍大于 最大分箱数量阈值\n",
    "        # 条件2：当前最小卡方值仍小于制定卡方阈值\n",
    "        if (max_group is not None and max_group < len(freq_array)) or (chi_threshold is not None and min_chi < chi_threshold):\n",
    "            tmp = freq_array[min_idx] + freq_array[min_idx+1]\n",
    "            freq_array[min_idx] = tmp\n",
    "            freq_array = np.delete(freq_array, min_idx+1, 0)\n",
    "            best_bincut = np.delete(best_bincut, min_idx+1, 0)\n",
    "        else:\n",
    "            break\n",
    "    \n",
    "    # 把切分点补上头尾\n",
    "    best_bincut = best_bincut.tolist()\n",
    "    best_bincut.append(data[var].min())\n",
    "    best_bincut.append(data[var].max())\n",
    "    best_bincut_set = set(best_bincut)\n",
    "    best_bincut = list(best_bincut_set)\n",
    "    \n",
    "    best_bincut.remove(data[var].min())\n",
    "    best_bincut.append(-np.inf)\n",
    "    best_bincut.remove(data[var].max())\n",
    "    best_bincut.append(np.inf)\n",
    "    # 排序切分点\n",
    "    best_bincut.sort()\n",
    "    \n",
    "    return best_bincut"
   ]
  },
  {
   "cell_type": "code",
   "execution_count": 22,
   "id": "a794ca08",
   "metadata": {},
   "outputs": [
    {
     "ename": "NameError",
     "evalue": "name 'get_chimerge_bincut' is not defined",
     "output_type": "error",
     "traceback": [
      "\u001b[1;31m---------------------------------------------------------------------------\u001b[0m",
      "\u001b[1;31mNameError\u001b[0m                                 Traceback (most recent call last)",
      "\u001b[1;32m<ipython-input-22-b0fae3b9dd0e>\u001b[0m in \u001b[0;36m<module>\u001b[1;34m\u001b[0m\n\u001b[1;32m----> 1\u001b[1;33m \u001b[0mbins_age\u001b[0m\u001b[1;33m=\u001b[0m\u001b[0mget_chimerge_bincut\u001b[0m\u001b[1;33m(\u001b[0m\u001b[0mloan1\u001b[0m\u001b[1;33m,\u001b[0m\u001b[1;34m'Age'\u001b[0m\u001b[1;33m,\u001b[0m\u001b[1;34m'Label'\u001b[0m\u001b[1;33m,\u001b[0m\u001b[0mmax_group\u001b[0m\u001b[1;33m=\u001b[0m\u001b[1;36m6\u001b[0m\u001b[1;33m)\u001b[0m\u001b[1;33m\u001b[0m\u001b[1;33m\u001b[0m\u001b[0m\n\u001b[0m",
      "\u001b[1;31mNameError\u001b[0m: name 'get_chimerge_bincut' is not defined"
     ]
    }
   ],
   "source": [
    "bins_age=get_chimerge_bincut(loan1,'Age','Label',max_group=6)"
   ]
  },
  {
   "cell_type": "code",
   "execution_count": null,
   "id": "ddbbbb26",
   "metadata": {},
   "outputs": [],
   "source": [
    "# for i in range(len(freq)-1):\n",
    "#     print(freq.index.values[i:i+2],cal_chi(freq.values[i:i+2]))\n",
    "    \n",
    "    \n",
    "\n",
    "for i in range(len(freq) - 1):\n",
    "    # 两两计算相邻两组的卡方值，得到最小卡方值的两组\n",
    "    v = cal_chi(freq.values[i:i+2])\n",
    "    if min_chi is None or min_chi > v:\n",
    "        min_chi = v\n",
    "        idx=i\n",
    "        min_idx = freq.index.values[i:i+2]"
   ]
  },
  {
   "cell_type": "code",
   "execution_count": null,
   "id": "ae80e9e9",
   "metadata": {},
   "outputs": [],
   "source": []
  },
  {
   "cell_type": "code",
   "execution_count": null,
   "id": "b6c71c4f",
   "metadata": {},
   "outputs": [],
   "source": []
  },
  {
   "cell_type": "code",
   "execution_count": null,
   "id": "fa740c8b",
   "metadata": {},
   "outputs": [],
   "source": []
  },
  {
   "cell_type": "code",
   "execution_count": null,
   "id": "b8ecaeba",
   "metadata": {},
   "outputs": [],
   "source": []
  },
  {
   "cell_type": "code",
   "execution_count": null,
   "id": "27e73d97",
   "metadata": {},
   "outputs": [],
   "source": []
  },
  {
   "cell_type": "code",
   "execution_count": null,
   "id": "f3a7e5e4",
   "metadata": {},
   "outputs": [],
   "source": []
  },
  {
   "cell_type": "code",
   "execution_count": null,
   "id": "206ad97d",
   "metadata": {},
   "outputs": [],
   "source": []
  },
  {
   "cell_type": "code",
   "execution_count": null,
   "id": "0d3e5a64",
   "metadata": {},
   "outputs": [],
   "source": []
  },
  {
   "cell_type": "markdown",
   "id": "fdee631f",
   "metadata": {},
   "source": [
    "### 4.2 决策树分箱"
   ]
  },
  {
   "cell_type": "markdown",
   "id": "9d8fad7f",
   "metadata": {},
   "source": [
    "基于CART算法的连续变量最优分箱，实现步骤如下：\n",
    "* （1）给定连续变量 V，对V中的值进行排序；\n",
    "* （2）依次计算相邻元素间中位数作为二值划分点的基尼指数；\n",
    "* （3）选择最优（划分后基尼指数下降最大）的划分点作为本次迭代的划分点；\n",
    "* （4）递归迭代步骤2-3，直到满足停止条件。（一般是以划分后的样本量作为停止条件，比如叶子节点的样本量>=总样本量的10%）"
   ]
  },
  {
   "cell_type": "code",
   "execution_count": null,
   "id": "1cff0ea5",
   "metadata": {},
   "outputs": [],
   "source": [
    "def dt_bins(X,Y,max_leaf_num): \n",
    "    \"\"\"利用决策树获得最优分箱的边界值\"\"\"  \n",
    "    \n",
    "    \"\"\"\n",
    "    :param X: 待分箱特征\n",
    "    :param Y: 目标变量\n",
    "    :param max_leaf_num: 分箱数\n",
    "    \n",
    "    :return: 统计值、分箱边界值列表、woe值、iv值\n",
    "    \"\"\"\n",
    "    bins = []  \n",
    "    x = X.values  \n",
    "    y = Y.values \n",
    "    clf = DecisionTreeClassifier(criterion='entropy',  # 信息熵最小化准则划分 \n",
    "                                 max_leaf_nodes=max_leaf_num,  # 最大叶子节点数  \n",
    "                                 min_samples_leaf = 0.05)  # 叶子节点样本数量最小占比 \n",
    "    clf.fit(x.reshape(-1,1),y)  # 训练决策树 \n",
    "     \n",
    "    n_nodes = clf.tree_.node_count  \n",
    "    children_left = clf.tree_.children_left  \n",
    "    children_right = clf.tree_.children_right  \n",
    "    threshold = clf.tree_.threshold  \n",
    "     \n",
    "    for i in range(n_nodes): \n",
    "        if children_left[i] != children_right[i] : # 获的决策时节点上的划分边界 \n",
    "            bins.append(threshold[i]) \n",
    "    bins.sort() \n",
    "    min_x = -np.inf\n",
    "    max_x = np.inf # 加0.1是为了考虑后续groupby操作时, 能包含特征最大值得样本 \n",
    "    bins=[min_x]+bins\n",
    "    bins = bins +[max_x]\n",
    "    \n",
    "    #计算woe和iv\n",
    "    result,woe,iv=cal_woe(Y,X,bins)\n",
    "    \n",
    "    return result,bins,woe,iv"
   ]
  },
  {
   "cell_type": "code",
   "execution_count": null,
   "id": "abeda14d",
   "metadata": {
    "scrolled": false
   },
   "outputs": [],
   "source": [
    "RevolvingRatio_result,RevolvingRatio_bins,RevolvingRatio_woe,RevolvingRatio_iv=dt_bins(loan1.RevolvingRatio,loan1.Label,5)"
   ]
  },
  {
   "cell_type": "code",
   "execution_count": null,
   "id": "cd9f1d20",
   "metadata": {},
   "outputs": [],
   "source": [
    "age_result,age_bins,age_woe,age_iv=dt_bins(loan1.Age,loan1.Label,6)"
   ]
  },
  {
   "cell_type": "code",
   "execution_count": null,
   "id": "811311f2",
   "metadata": {},
   "outputs": [],
   "source": [
    "# # 自动分箱\n",
    "# DebtRatio_result,DebtRatio_bins,DebtRatio_woe,DebtRatio_iv=dt_bins(loan1.DebtRatio,loan1.Label,4)\n",
    "\n",
    "# 手动分箱\n",
    "DebtRatio_bins=[-np.inf,0.3,0.423,0.5,np.inf]\n",
    "DebtRatio_result,DebtRatio_woe,DebtRatio_iv=cal_woe(loan1.Label,loan1.DebtRatio,DebtRatio_bins)"
   ]
  },
  {
   "cell_type": "code",
   "execution_count": null,
   "id": "d0e4e540",
   "metadata": {},
   "outputs": [],
   "source": [
    "MonthlyIncome_result,MonthlyIncome_bins,MonthlyIncome_woe,MonthlyIncome_iv=dt_bins(loan1.MonthlyIncome,loan1.Label,3)"
   ]
  },
  {
   "cell_type": "code",
   "execution_count": null,
   "id": "95e6aa75",
   "metadata": {},
   "outputs": [],
   "source": [
    "# 自动分箱\n",
    "# OpenL_result,OpenL_bins,OpenL_woe,OpenL_iv=dt_bins(loan1.OpenL,loan1.Label,5)\n",
    "\n",
    "# 手动分箱\n",
    "OpenL_bins=[-np.inf,2.5,3.5,5.5,np.inf]\n",
    "OpenL_result,OpenL_woe,OpenL_iv=cal_woe(loan1.Label,loan1.OpenL,OpenL_bins)"
   ]
  },
  {
   "cell_type": "code",
   "execution_count": null,
   "id": "e469d136",
   "metadata": {},
   "outputs": [],
   "source": [
    "# # 自动分箱\n",
    "# RealEstate_result,RealEstate_bins,RealEstate_woe,RealEstate_iv=dt_bins(loan1.RealEstate,loan1.Label,4)\n",
    "\n",
    "# # 手动分箱\n",
    "# RealEstate_bins=[-np.inf,0.5,2.5,np.inf]\n",
    "# RealEstate_result,RealEstate_woe,RealEstate_iv=cal_woe(loan1.Label,loan1.RealEstate,RealEstate_bins)\n",
    "\n",
    "\n",
    "# RealEstate的woe不单调，故不采用该变量"
   ]
  },
  {
   "cell_type": "code",
   "execution_count": null,
   "id": "217fbd53",
   "metadata": {},
   "outputs": [],
   "source": [
    "Dependents_result,Dependents_bins,Dependents_woe,Dependents_iv=dt_bins(loan1.Dependents,loan1.Label,5)"
   ]
  },
  {
   "cell_type": "code",
   "execution_count": null,
   "id": "03c9a485",
   "metadata": {
    "scrolled": false
   },
   "outputs": [],
   "source": [
    "D30_result,D30_bins,D30_woe,D30_iv=dt_bins(loan1.D30,loan1.Label,5)"
   ]
  },
  {
   "cell_type": "markdown",
   "id": "9271a63c",
   "metadata": {},
   "source": [
    "## 构建模型"
   ]
  },
  {
   "cell_type": "code",
   "execution_count": null,
   "id": "92f93bee",
   "metadata": {},
   "outputs": [],
   "source": [
    "\"\"\"\n",
    "由于变量较少，故取iv>0.02的变量作为入模变量:\n",
    "'RevolvingRatio', 'Age', 'DebtRatio', 'MonthlyIncome',\n",
    "'OpenL', 'Dependents', 'D30'\n",
    "\n",
    "\"\"\" "
   ]
  },
  {
   "cell_type": "markdown",
   "id": "7016afd4",
   "metadata": {},
   "source": [
    "#### 将入模变量转换成woe值"
   ]
  },
  {
   "cell_type": "code",
   "execution_count": null,
   "id": "5e2f95fd",
   "metadata": {},
   "outputs": [],
   "source": [
    "loan1['RevolvingRatio']=pd.cut(loan1['RevolvingRatio'],RevolvingRatio_bins,labels=RevolvingRatio_woe)"
   ]
  },
  {
   "cell_type": "code",
   "execution_count": null,
   "id": "f5864710",
   "metadata": {},
   "outputs": [],
   "source": [
    "loan1['Age']=pd.cut(loan1['Age'],age_bins,labels=age_woe)"
   ]
  },
  {
   "cell_type": "code",
   "execution_count": null,
   "id": "8729f091",
   "metadata": {},
   "outputs": [],
   "source": [
    "loan1['DebtRatio']=pd.cut(loan1['DebtRatio'],DebtRatio_bins,labels=DebtRatio_woe)"
   ]
  },
  {
   "cell_type": "code",
   "execution_count": null,
   "id": "98a13139",
   "metadata": {},
   "outputs": [],
   "source": [
    "loan1['MonthlyIncome']=pd.cut(loan1['MonthlyIncome'],MonthlyIncome_bins,labels=MonthlyIncome_woe)"
   ]
  },
  {
   "cell_type": "code",
   "execution_count": null,
   "id": "a30c322a",
   "metadata": {},
   "outputs": [],
   "source": [
    "loan1['OpenL']=pd.cut(loan1['OpenL'],OpenL_bins,labels=OpenL_woe)"
   ]
  },
  {
   "cell_type": "code",
   "execution_count": null,
   "id": "9535aa9d",
   "metadata": {},
   "outputs": [],
   "source": [
    "loan1['Dependents']=pd.cut(loan1['Dependents'],Dependents_bins,labels=Dependents_woe)"
   ]
  },
  {
   "cell_type": "code",
   "execution_count": null,
   "id": "fce109c7",
   "metadata": {},
   "outputs": [],
   "source": [
    "loan1['D30']=pd.cut(loan1['D30'],D30_bins,labels=D30_woe)"
   ]
  },
  {
   "cell_type": "code",
   "execution_count": null,
   "id": "3e783c88",
   "metadata": {},
   "outputs": [],
   "source": [
    "loan_model=loan1[['Label','RevolvingRatio', 'Age', 'DebtRatio', 'MonthlyIncome','OpenL', 'Dependents', 'D30']]\n",
    "X=loan_model.iloc[:,1:]\n",
    "y=loan_model.iloc[:,:1]"
   ]
  },
  {
   "cell_type": "code",
   "execution_count": null,
   "id": "beeefc67",
   "metadata": {},
   "outputs": [],
   "source": [
    "X_train,X_test,y_train,y_test=train_test_split(X,y,test_size=0.3,random_state=0)"
   ]
  },
  {
   "cell_type": "code",
   "execution_count": null,
   "id": "21774fc6",
   "metadata": {},
   "outputs": [],
   "source": [
    "LR=LogisticRegression()\n",
    "LR.fit(x_train,y_train)\n",
    "\n",
    "pred=LR.predict(X_test)\n",
    "scores=LR.decision_function(X_test)"
   ]
  },
  {
   "cell_type": "code",
   "execution_count": null,
   "id": "e89913c3",
   "metadata": {},
   "outputs": [],
   "source": [
    "from sklearn.metrics import roc_curve, auc,accuracy_score\n",
    "\n",
    "# 计算ROC-AUC相关数值\n",
    "fpr, tpr, threshold = roc_curve(y_test, scores)\n",
    "auc_value = auc(fpr, tpr)\n",
    "\n",
    "# 画图\n",
    "plt.figure()    # 建立图像\n",
    "\n",
    "plt.plot(fpr,tpr, label=\"AUC = % 0.2f\" % auc_value)\n",
    "plt.legend()    # 加入图例\n",
    "plt.plot([0, 1], [0, 1], 'r--')\n",
    "plt.xlim([0, 1])\n",
    "plt.ylim([0, 1])\n",
    "plt.ylabel('TPR')\n",
    "plt.xlabel('FPR')\n",
    "\n",
    "plt.show()    # 展示图像"
   ]
  },
  {
   "cell_type": "code",
   "execution_count": null,
   "id": "f12b71ba",
   "metadata": {},
   "outputs": [],
   "source": [
    "plt.figure()    # 建立图像\n",
    "\n",
    "plt.plot(fpr,label=\"FPR\")\n",
    "plt.plot(tpr,label=\"TPR\")\n",
    "plt.plot(abs(fpr-tpr),label='KS')\n",
    "plt.legend()    # 加入图例\n",
    "plt.show()    # 展示图像"
   ]
  },
  {
   "cell_type": "code",
   "execution_count": null,
   "id": "99b1b80a",
   "metadata": {},
   "outputs": [],
   "source": [
    "# 模型准确率与KS\n",
    "print(\"模型准确率:\",accuracy_score(y_test,pred))\n",
    "print(\"模型KS值:\",abs(fpr-tpr).max())"
   ]
  },
  {
   "cell_type": "markdown",
   "id": "a6badd42",
   "metadata": {},
   "source": [
    "## 评分卡设置"
   ]
  },
  {
   "cell_type": "code",
   "execution_count": null,
   "id": "cc5526f1",
   "metadata": {},
   "outputs": [],
   "source": [
    "# 好坏客户比例，约为14：1\n",
    "(loan1['Label'].count()-loan1['Label'].sum())/loan1['Label'].sum()"
   ]
  },
  {
   "cell_type": "code",
   "execution_count": null,
   "id": "6b6a7991",
   "metadata": {},
   "outputs": [],
   "source": [
    "# 设置theta为1/14,P=600,PDO=20,即信用卡评分为600分，当用户违约几率上升一倍时，评分降低20\n",
    "# B=PDO/ln2\n",
    "# A=P+B*ln(theta)\n",
    "\n",
    "B=20/np.log(2)\n",
    "A=600+B*np.log(1/14)"
   ]
  },
  {
   "cell_type": "code",
   "execution_count": null,
   "id": "4b2cb730",
   "metadata": {},
   "outputs": [],
   "source": [
    "Base_score=A-B*LR.intercept_[0]\n",
    "print(\"评分卡的基础分为：\", Base_Score)"
   ]
  },
  {
   "cell_type": "code",
   "execution_count": null,
   "id": "420a2982",
   "metadata": {},
   "outputs": [],
   "source": [
    "def score(coef,woe):\n",
    "    scores=[]\n",
    "    for i in woe:\n",
    "        score=round(-B*coef*i)\n",
    "        scores.append(score)\n",
    "    return scores"
   ]
  },
  {
   "cell_type": "code",
   "execution_count": null,
   "id": "2bcb0a06",
   "metadata": {},
   "outputs": [],
   "source": [
    "RevolvingRatio_scores=score(LR.coef_[0][0],RevolvingRatio_woe)\n",
    "\n",
    "age_scores=score(LR.coef_[0][1],age_woe)\n",
    "\n",
    "DebtRatio_scores=score(LR.coef_[0][2],DebtRatio_woe)\n",
    "\n",
    "MonthlyIncome_scores=score(LR.coef_[0][3],MonthlyIncome_woe)\n",
    "\n",
    "OpenL_scores=score(LR.coef_[0][4],OpenL_woe)\n",
    "\n",
    "Dependents_scores=score(LR.coef_[0][5],Dependents_woe)\n",
    "\n",
    "D30_scores=score(LR.coef_[0][6],D30_woe)"
   ]
  },
  {
   "cell_type": "code",
   "execution_count": null,
   "id": "0133c0bd",
   "metadata": {
    "scrolled": false
   },
   "outputs": [],
   "source": [
    "score_train=X_train.copy()\n",
    "\n",
    "# 计算变量各个值对应的分值\n",
    "score_train['RevolvingRatio']=score_train['RevolvingRatio'].replace(RevolvingRatio_woe,RevolvingRatio_scores)\n",
    "score_train['Age']=score_train['Age'].replace(age_woe,age_scores)\n",
    "score_train['DebtRatio']=score_train['DebtRatio'].replace(DebtRatio_woe,DebtRatio_scores)\n",
    "score_train['MonthlyIncome']=score_train['MonthlyIncome'].replace(MonthlyIncome_woe,MonthlyIncome_scores)\n",
    "score_train['OpenL']=score_train['OpenL'].replace(OpenL_woe,OpenL_scores)\n",
    "score_train['Dependents']=score_train['Dependents'].replace(Dependents_woe,Dependents_scores)\n",
    "score_train['D30']=score_train['D30'].replace(D30_woe,D30_scores)\n",
    "\n",
    "# 计算总分\n",
    "score_train['Score']=round(Base_score+score_train['RevolvingRatio']+score_train['Age']+score_train['DebtRatio']+score_train['MonthlyIncome']+score_train['OpenL']+score_train['Dependents']+score_train['D30'])\n",
    "score_train['Label']=y_train\n",
    "score_train"
   ]
  },
  {
   "cell_type": "code",
   "execution_count": null,
   "id": "d6afdcd2",
   "metadata": {},
   "outputs": [],
   "source": [
    "Bad = score_train[score_train['Label']==1]['Score']\n",
    "Good = score_train[score_train['Label']==0]['Score']\n",
    "sns.kdeplot(Bad,shade=True,label='坏用户',color='red')\n",
    "sns.kdeplot(Good,shade=True,label='好用户',color ='seagreen')\n",
    "# sns.distplot(Bad)\n",
    "plt.axvline(x=600)\n",
    "plt.legend()\n",
    "plt.show()"
   ]
  },
  {
   "cell_type": "code",
   "execution_count": null,
   "id": "443d4c09",
   "metadata": {},
   "outputs": [],
   "source": [
    "sns.kdeplot(score_train.groupby('Score')['Label'].mean())"
   ]
  },
  {
   "cell_type": "code",
   "execution_count": null,
   "id": "e01df80b",
   "metadata": {},
   "outputs": [],
   "source": []
  },
  {
   "cell_type": "code",
   "execution_count": null,
   "id": "c8110bfb",
   "metadata": {},
   "outputs": [],
   "source": []
  },
  {
   "cell_type": "code",
   "execution_count": null,
   "id": "70475ac7",
   "metadata": {},
   "outputs": [],
   "source": []
  },
  {
   "cell_type": "code",
   "execution_count": null,
   "id": "080e20fc",
   "metadata": {},
   "outputs": [],
   "source": []
  },
  {
   "cell_type": "code",
   "execution_count": null,
   "id": "25e35a14",
   "metadata": {},
   "outputs": [],
   "source": []
  },
  {
   "cell_type": "code",
   "execution_count": null,
   "id": "5a424baf",
   "metadata": {},
   "outputs": [],
   "source": [
    "score_test=X_test.copy()\n",
    "\n",
    "# 计算变量各个值对应的分值\n",
    "score_test['RevolvingRatio']=score_test['RevolvingRatio'].replace(RevolvingRatio_woe,RevolvingRatio_scores)\n",
    "score_test['Age']=score_test['Age'].replace(age_woe,age_scores)\n",
    "score_test['DebtRatio']=score_test['DebtRatio'].replace(DebtRatio_woe,DebtRatio_scores)\n",
    "score_test['MonthlyIncome']=score_test['MonthlyIncome'].replace(MonthlyIncome_woe,MonthlyIncome_scores)\n",
    "score_test['OpenL']=score_test['OpenL'].replace(OpenL_woe,OpenL_scores)\n",
    "score_test['Dependents']=score_test['Dependents'].replace(Dependents_woe,Dependents_scores)\n",
    "score_test['D30']=score_test['D30'].replace(D30_woe,D30_scores)\n",
    "\n",
    "# 计算总分\n",
    "score_test['Score']=round(Base_score+score_test['RevolvingRatio']+score_test['Age']+score_test['DebtRatio']+score_test['MonthlyIncome']+score_test['OpenL']+score_test['Dependents']+score_test['D30'])\n",
    "score_test"
   ]
  },
  {
   "cell_type": "code",
   "execution_count": null,
   "id": "8b9ce696",
   "metadata": {},
   "outputs": [],
   "source": []
  },
  {
   "cell_type": "code",
   "execution_count": null,
   "id": "35c076e1",
   "metadata": {},
   "outputs": [],
   "source": []
  },
  {
   "cell_type": "markdown",
   "id": "5ab49adf",
   "metadata": {},
   "source": [
    "### 4.3 Best-KS分箱"
   ]
  },
  {
   "cell_type": "markdown",
   "id": "935ecc62",
   "metadata": {},
   "source": [
    "基于最优KS的连续变量最优分箱，实现步骤如下：\n",
    "* （1）给定连续变量 V，对V中的值进行排序；\n",
    "* （2）每一个元素值就是一个计算点；\n",
    "* （3）计算出KS最大的那个元素，作为最优划分点，将变量划分成两部分D1和D2；\n",
    "* （4）递归迭代步骤3，计算由步骤3中产生的数据集D1 D2的划分点，直到满足停止条件。（一般是分箱数量达到某个阈值，或者是KS值小于某个阈值）\n"
   ]
  },
  {
   "cell_type": "code",
   "execution_count": null,
   "id": "46e27a96",
   "metadata": {},
   "outputs": [],
   "source": [
    "def bestks_bins(X,Y,n):\n",
    "    \"\"\"\n",
    "    :param X: 待分箱特征\n",
    "    :param Y: 目标变量\n",
    "    :param max_leaf_num: 分箱数\n",
    "    \n",
    "    :return: 统计值、分箱边界值列表、woe值、iv值\n",
    "    \"\"\"\n",
    "    total_bad = Y.sum()    # 总的坏样本数\n",
    "    total_good = Y.count() - total_bad   # 总的好样本数\n",
    "    \n",
    "    bins=[]\n",
    "    \n",
    "    list1=X.unique()\n",
    "    list1.sort()\n",
    "    \n",
    "    df=pd.DataFrame({\"X\":X,\"Y\":Y,\"bins\":pd.cut(X,list1)})\n",
    "    df['bad']=df[\"Y\"]\n",
    "    df['good']=df['Y'].apply(lambda x:1 if x==0 else 0)\n",
    "\n",
    "    \n",
    "    bad=pd.DataFrame(df.groupby(['X'])[\"bad\"].sum()).reset_index()\n",
    "    good=pd.DataFrame(df.groupby(['X'])[\"good\"].sum()).reset_index()\n",
    "    \n",
    "    bad['bad']=bad['bad'].cumsum()\n",
    "    good['good']=good['good'].cumsum()\n",
    "    \n",
    "    df2=pd.merge(bad,good,on=\"X\",how=\"left\")\n",
    "    \n",
    "    \n",
    "    df2['bad_pct']=df2['bad']/total_bad\n",
    "    df2['good_pct']=df2['good']/total_good\n",
    "    df2['ks']=abs(df2['good_pct']-df2['bad_pct'])\n",
    "    \n",
    "    #取ks最大的点作为切分点\n",
    "    id_max=df2['ks'].idxmax()\n",
    "    x_max=df2['X'][id_max]\n",
    "    \n",
    "    bins.append(x_max)\n",
    "    \n",
    "    bins.append(list1.min())\n",
    "    bins.append(list1.max())\n",
    "    bins.sort()\n",
    "    return bins"
   ]
  },
  {
   "cell_type": "code",
   "execution_count": null,
   "id": "234422a9",
   "metadata": {},
   "outputs": [],
   "source": [
    "bestks_bins(loan1.Age,loan1.Label,5)\n"
   ]
  },
  {
   "cell_type": "code",
   "execution_count": null,
   "id": "0a74916e",
   "metadata": {},
   "outputs": [],
   "source": []
  },
  {
   "cell_type": "code",
   "execution_count": null,
   "id": "bfa7f28d",
   "metadata": {},
   "outputs": [],
   "source": []
  },
  {
   "cell_type": "markdown",
   "id": "d1db58c8",
   "metadata": {},
   "source": [
    "### 4.4 其他分箱"
   ]
  },
  {
   "cell_type": "code",
   "execution_count": null,
   "id": "bb554a46",
   "metadata": {},
   "outputs": [],
   "source": [
    "def spearman_bins(Y, X, n):\n",
    "    \"\"\"\n",
    "    :param Y: 目标变量\n",
    "    :param X: 待分箱特征\n",
    "    :param n: 分箱数初始值\n",
    "    :return: 统计值、分箱边界值列表、woe值、iv值\n",
    "    \"\"\"\n",
    "    r = 0    # 初始值\n",
    "    total_bad = Y.sum()    # 总的坏样本数\n",
    "    total_good = Y.count() - total_bad    # 总的好样本数\n",
    "    \n",
    "    # 分箱过程\n",
    "    while np.abs(r) < 1:    \n",
    "        df1 = pd.DataFrame({'X':X, 'Y':Y, 'bin':pd.qcut(X, n, duplicates='drop')})    # qcut():基于量化的离散化函数\n",
    "        df2 = df1.groupby('bin')\n",
    "        r, p = stats.spearmanr(df2.mean().X, df2.mean().Y)\n",
    "        n = n - 1\n",
    "        \n",
    "        if n==1:\n",
    "            break\n",
    "        else:\n",
    "            continue\n",
    "    bins = []\n",
    "    bins.append(-np.inf)\n",
    "    for i in range(1, n+1):\n",
    "        qua = X.quantile(i / (n+1))\n",
    "        bins.append(round(qua, 6))\n",
    "    bins.append(np.inf)\n",
    "    bins =list(np.unique(bins))\n",
    "    \n",
    "    \n",
    "    #计算woe和iv\n",
    "    result,woe,iv=cal_woe(Y,X,bins)\n",
    "    \n",
    "    return result,bins,woe,iv"
   ]
  },
  {
   "cell_type": "code",
   "execution_count": null,
   "id": "0c735eb9",
   "metadata": {
    "scrolled": false
   },
   "outputs": [],
   "source": [
    "# rrDf, bins_rr, woe_rr, iv_rr = spearman_bins(loan1.Label,loan1.RevolvingRatio,n=10)\n",
    "# AgeDf, bins_Age, woe_Age, iv_Age=spearman_bins(loan1.Label,loan1.Age,n=10)\n",
    "# DebtRatioDf, bins_DebtRatio, woe_DebtRatio, iv_DebtRatio=spearman_bins(loan1.Label,loan1.DebtRatio,n=10)\n",
    "# MonthlyIncomeDf, bins_MonthlyIncome, woe_MonthlyIncome, iv_MonthlyIncome=spearman_bins(loan1.Label,loan1.MonthlyIncome,n=10)\n",
    "# OpenLDf, bins_OpenL, woe_OpenL, iv_OpenL=spearman_bins(loan1.Label,loan1.OpenL,n=10)\n",
    "# RealEstateDf, bins_RealEstate, woe_RealEstate, iv_RealEstate=spearman_bins(loan1.Label,loan1.RealEstate,n=10)\n",
    "# DependentsDf, bins_Dependents, woe_Dependents, iv_Dependents=spearman_bins(loan1.Label,loan1.Dependents,n=10)\n",
    "# D30Df, bins_D30, woe_D30, iv_D30=spearman_bins(loan1.Label,loan1.D30,n=10)"
   ]
  },
  {
   "cell_type": "code",
   "execution_count": null,
   "id": "dd15a04d",
   "metadata": {},
   "outputs": [],
   "source": []
  },
  {
   "cell_type": "code",
   "execution_count": null,
   "id": "c7e1c840",
   "metadata": {},
   "outputs": [],
   "source": []
  },
  {
   "cell_type": "code",
   "execution_count": null,
   "id": "816a2a80",
   "metadata": {},
   "outputs": [],
   "source": []
  },
  {
   "cell_type": "code",
   "execution_count": null,
   "id": "b5ae602c",
   "metadata": {},
   "outputs": [],
   "source": []
  },
  {
   "cell_type": "code",
   "execution_count": null,
   "id": "d2f68ae6",
   "metadata": {},
   "outputs": [],
   "source": []
  },
  {
   "cell_type": "code",
   "execution_count": null,
   "id": "6a354386",
   "metadata": {},
   "outputs": [],
   "source": []
  },
  {
   "cell_type": "code",
   "execution_count": null,
   "id": "805e05f5",
   "metadata": {},
   "outputs": [],
   "source": []
  }
 ],
 "metadata": {
  "kernelspec": {
   "display_name": "Python 3",
   "language": "python",
   "name": "python3"
  },
  "language_info": {
   "codemirror_mode": {
    "name": "ipython",
    "version": 3
   },
   "file_extension": ".py",
   "mimetype": "text/x-python",
   "name": "python",
   "nbconvert_exporter": "python",
   "pygments_lexer": "ipython3",
   "version": "3.8.8"
  }
 },
 "nbformat": 4,
 "nbformat_minor": 5
}
