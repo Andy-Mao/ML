{
 "cells": [
  {
   "cell_type": "markdown",
   "id": "03ddff8b",
   "metadata": {},
   "source": [
    "## 1、库包导入"
   ]
  },
  {
   "cell_type": "code",
   "execution_count": 1,
   "id": "8d380cee",
   "metadata": {},
   "outputs": [],
   "source": [
    "import numpy as np\n",
    "import pandas as pd\n",
    "import matplotlib.pyplot as plt\n",
    "import seaborn as sns\n",
    "\n",
    "from sklearn.model_selection import train_test_split\n",
    "\n",
    "from sklearn.ensemble import RandomForestRegressor\n",
    "from sklearn.tree import DecisionTreeClassifier\n",
    "from scipy.stats import stats \n",
    "\n",
    "from sklearn.linear_model import LogisticRegression\n",
    "\n",
    "from sklearn.metrics import roc_curve, auc,accuracy_score\n",
    "\n",
    "import warnings\n",
    "warnings.filterwarnings('ignore')\n",
    "plt.rcParams['font.family']=['SimHei'] \n",
    "\n",
    "\n",
    "#导入分箱函数\n",
    "from cut_bins import cal_woe,dt_bins "
   ]
  },
  {
   "cell_type": "markdown",
   "id": "ceb81786",
   "metadata": {},
   "source": [
    "## 2、数据导入与描述分析"
   ]
  },
  {
   "cell_type": "code",
   "execution_count": 2,
   "id": "81a9b7f9",
   "metadata": {},
   "outputs": [
    {
     "name": "stdout",
     "output_type": "stream",
     "text": [
      "<class 'pandas.core.frame.DataFrame'>\n",
      "RangeIndex: 150000 entries, 0 to 149999\n",
      "Data columns (total 11 columns):\n",
      " #   Column          Non-Null Count   Dtype  \n",
      "---  ------          --------------   -----  \n",
      " 0   Label           150000 non-null  int64  \n",
      " 1   RevolvingRatio  150000 non-null  float64\n",
      " 2   Age             150000 non-null  int64  \n",
      " 3   30-59D          150000 non-null  int64  \n",
      " 4   DebtRatio       150000 non-null  float64\n",
      " 5   MonthlyIncome   120269 non-null  float64\n",
      " 6   OpenL           150000 non-null  int64  \n",
      " 7   90D             150000 non-null  int64  \n",
      " 8   RealEstate      150000 non-null  int64  \n",
      " 9   60-89D          150000 non-null  int64  \n",
      " 10  Dependents      146076 non-null  float64\n",
      "dtypes: float64(4), int64(7)\n",
      "memory usage: 12.6 MB\n"
     ]
    }
   ],
   "source": [
    "# - - - - - - - - - -字段描述- - - - - - - - - -\n",
    "\n",
    "# SeriousDlqin2yrs\t借款人是否逾期90天或更长时间\t标签（Y/N）\tLabel\n",
    "# RevolvingUtilizationOfUnsecuredLines\t无担保信贷额度除以总额度\t百分比\tRevolvingRatio\n",
    "# age\t借款人年龄\t整型\tAge\n",
    "# NumberOfTime30-59DaysPastDueNotWorse\t借款人过去两年逾期在30-59天的次数\t整型\t30-59D\n",
    "# DebtRatio\t每月的负债比率\t百分比\tDebtRatio\n",
    "# MonthlyIncome\t月收入\t浮点型\tMonthlyIncome\n",
    "# NumberOfOpenCreditLinesAndLoans\t未结贷款（如车贷或抵押贷款等）和信用额度（如信用卡）的数量\t整型\tOpenL\n",
    "# NumberOfTimes90DaysLate\t借款人已逾期90天以上的次数\t整型\t90D\n",
    "# NumberRealEstateLoansOrLines\t抵押和房地产贷款（包括房屋净值信用额度）\t整型\tRealEstate\n",
    "# NumberOfTime60-89DaysPastDueNotWorse\t借款人过去两年逾期在60-89天的次数\t整型\t60-89D\n",
    "# NumberOfDependents\t除本人以外的家属人数（配偶、子女等）\t整型\tDependents\n",
    "\n",
    "loan=pd.read_csv(\"cs-training.csv\")\n",
    "loan=loan.drop(['Unnamed: 0'],axis=1)\n",
    "loan.columns=['Label', 'RevolvingRatio', 'Age', '30-59D', 'DebtRatio', 'MonthlyIncome',\n",
    "                'OpenL', '90D', 'RealEstate', '60-89D', 'Dependents'] \n",
    "loan.info()"
   ]
  },
  {
   "cell_type": "code",
   "execution_count": 3,
   "id": "24bdb765",
   "metadata": {},
   "outputs": [
    {
     "data": {
      "text/html": [
       "<div>\n",
       "<style scoped>\n",
       "    .dataframe tbody tr th:only-of-type {\n",
       "        vertical-align: middle;\n",
       "    }\n",
       "\n",
       "    .dataframe tbody tr th {\n",
       "        vertical-align: top;\n",
       "    }\n",
       "\n",
       "    .dataframe thead th {\n",
       "        text-align: right;\n",
       "    }\n",
       "</style>\n",
       "<table border=\"1\" class=\"dataframe\">\n",
       "  <thead>\n",
       "    <tr style=\"text-align: right;\">\n",
       "      <th></th>\n",
       "      <th>Label</th>\n",
       "      <th>RevolvingRatio</th>\n",
       "      <th>Age</th>\n",
       "      <th>30-59D</th>\n",
       "      <th>DebtRatio</th>\n",
       "      <th>MonthlyIncome</th>\n",
       "      <th>OpenL</th>\n",
       "      <th>90D</th>\n",
       "      <th>RealEstate</th>\n",
       "      <th>60-89D</th>\n",
       "      <th>Dependents</th>\n",
       "    </tr>\n",
       "  </thead>\n",
       "  <tbody>\n",
       "    <tr>\n",
       "      <th>count</th>\n",
       "      <td>150000.000000</td>\n",
       "      <td>150000.000000</td>\n",
       "      <td>150000.000000</td>\n",
       "      <td>150000.000000</td>\n",
       "      <td>150000.000000</td>\n",
       "      <td>1.202690e+05</td>\n",
       "      <td>150000.000000</td>\n",
       "      <td>150000.000000</td>\n",
       "      <td>150000.000000</td>\n",
       "      <td>150000.000000</td>\n",
       "      <td>146076.000000</td>\n",
       "    </tr>\n",
       "    <tr>\n",
       "      <th>mean</th>\n",
       "      <td>0.066840</td>\n",
       "      <td>6.048438</td>\n",
       "      <td>52.295207</td>\n",
       "      <td>0.421033</td>\n",
       "      <td>353.005076</td>\n",
       "      <td>6.670221e+03</td>\n",
       "      <td>8.452760</td>\n",
       "      <td>0.265973</td>\n",
       "      <td>1.018240</td>\n",
       "      <td>0.240387</td>\n",
       "      <td>0.757222</td>\n",
       "    </tr>\n",
       "    <tr>\n",
       "      <th>std</th>\n",
       "      <td>0.249746</td>\n",
       "      <td>249.755371</td>\n",
       "      <td>14.771866</td>\n",
       "      <td>4.192781</td>\n",
       "      <td>2037.818523</td>\n",
       "      <td>1.438467e+04</td>\n",
       "      <td>5.145951</td>\n",
       "      <td>4.169304</td>\n",
       "      <td>1.129771</td>\n",
       "      <td>4.155179</td>\n",
       "      <td>1.115086</td>\n",
       "    </tr>\n",
       "    <tr>\n",
       "      <th>min</th>\n",
       "      <td>0.000000</td>\n",
       "      <td>0.000000</td>\n",
       "      <td>0.000000</td>\n",
       "      <td>0.000000</td>\n",
       "      <td>0.000000</td>\n",
       "      <td>0.000000e+00</td>\n",
       "      <td>0.000000</td>\n",
       "      <td>0.000000</td>\n",
       "      <td>0.000000</td>\n",
       "      <td>0.000000</td>\n",
       "      <td>0.000000</td>\n",
       "    </tr>\n",
       "    <tr>\n",
       "      <th>25%</th>\n",
       "      <td>0.000000</td>\n",
       "      <td>0.029867</td>\n",
       "      <td>41.000000</td>\n",
       "      <td>0.000000</td>\n",
       "      <td>0.175074</td>\n",
       "      <td>3.400000e+03</td>\n",
       "      <td>5.000000</td>\n",
       "      <td>0.000000</td>\n",
       "      <td>0.000000</td>\n",
       "      <td>0.000000</td>\n",
       "      <td>0.000000</td>\n",
       "    </tr>\n",
       "    <tr>\n",
       "      <th>50%</th>\n",
       "      <td>0.000000</td>\n",
       "      <td>0.154181</td>\n",
       "      <td>52.000000</td>\n",
       "      <td>0.000000</td>\n",
       "      <td>0.366508</td>\n",
       "      <td>5.400000e+03</td>\n",
       "      <td>8.000000</td>\n",
       "      <td>0.000000</td>\n",
       "      <td>1.000000</td>\n",
       "      <td>0.000000</td>\n",
       "      <td>0.000000</td>\n",
       "    </tr>\n",
       "    <tr>\n",
       "      <th>75%</th>\n",
       "      <td>0.000000</td>\n",
       "      <td>0.559046</td>\n",
       "      <td>63.000000</td>\n",
       "      <td>0.000000</td>\n",
       "      <td>0.868254</td>\n",
       "      <td>8.249000e+03</td>\n",
       "      <td>11.000000</td>\n",
       "      <td>0.000000</td>\n",
       "      <td>2.000000</td>\n",
       "      <td>0.000000</td>\n",
       "      <td>1.000000</td>\n",
       "    </tr>\n",
       "    <tr>\n",
       "      <th>max</th>\n",
       "      <td>1.000000</td>\n",
       "      <td>50708.000000</td>\n",
       "      <td>109.000000</td>\n",
       "      <td>98.000000</td>\n",
       "      <td>329664.000000</td>\n",
       "      <td>3.008750e+06</td>\n",
       "      <td>58.000000</td>\n",
       "      <td>98.000000</td>\n",
       "      <td>54.000000</td>\n",
       "      <td>98.000000</td>\n",
       "      <td>20.000000</td>\n",
       "    </tr>\n",
       "  </tbody>\n",
       "</table>\n",
       "</div>"
      ],
      "text/plain": [
       "               Label  RevolvingRatio            Age         30-59D  \\\n",
       "count  150000.000000   150000.000000  150000.000000  150000.000000   \n",
       "mean        0.066840        6.048438      52.295207       0.421033   \n",
       "std         0.249746      249.755371      14.771866       4.192781   \n",
       "min         0.000000        0.000000       0.000000       0.000000   \n",
       "25%         0.000000        0.029867      41.000000       0.000000   \n",
       "50%         0.000000        0.154181      52.000000       0.000000   \n",
       "75%         0.000000        0.559046      63.000000       0.000000   \n",
       "max         1.000000    50708.000000     109.000000      98.000000   \n",
       "\n",
       "           DebtRatio  MonthlyIncome          OpenL            90D  \\\n",
       "count  150000.000000   1.202690e+05  150000.000000  150000.000000   \n",
       "mean      353.005076   6.670221e+03       8.452760       0.265973   \n",
       "std      2037.818523   1.438467e+04       5.145951       4.169304   \n",
       "min         0.000000   0.000000e+00       0.000000       0.000000   \n",
       "25%         0.175074   3.400000e+03       5.000000       0.000000   \n",
       "50%         0.366508   5.400000e+03       8.000000       0.000000   \n",
       "75%         0.868254   8.249000e+03      11.000000       0.000000   \n",
       "max    329664.000000   3.008750e+06      58.000000      98.000000   \n",
       "\n",
       "          RealEstate         60-89D     Dependents  \n",
       "count  150000.000000  150000.000000  146076.000000  \n",
       "mean        1.018240       0.240387       0.757222  \n",
       "std         1.129771       4.155179       1.115086  \n",
       "min         0.000000       0.000000       0.000000  \n",
       "25%         0.000000       0.000000       0.000000  \n",
       "50%         1.000000       0.000000       0.000000  \n",
       "75%         2.000000       0.000000       1.000000  \n",
       "max        54.000000      98.000000      20.000000  "
      ]
     },
     "execution_count": 3,
     "metadata": {},
     "output_type": "execute_result"
    }
   ],
   "source": [
    "loan.describe()"
   ]
  },
  {
   "cell_type": "markdown",
   "id": "8b9da1f5",
   "metadata": {},
   "source": [
    "## 3、数据预处理"
   ]
  },
  {
   "cell_type": "markdown",
   "id": "d65f9ab9",
   "metadata": {},
   "source": [
    "### 3.1 缺失值预处理"
   ]
  },
  {
   "cell_type": "code",
   "execution_count": 4,
   "id": "b511cce8",
   "metadata": {},
   "outputs": [
    {
     "data": {
      "text/html": [
       "<div>\n",
       "<style scoped>\n",
       "    .dataframe tbody tr th:only-of-type {\n",
       "        vertical-align: middle;\n",
       "    }\n",
       "\n",
       "    .dataframe tbody tr th {\n",
       "        vertical-align: top;\n",
       "    }\n",
       "\n",
       "    .dataframe thead th {\n",
       "        text-align: right;\n",
       "    }\n",
       "</style>\n",
       "<table border=\"1\" class=\"dataframe\">\n",
       "  <thead>\n",
       "    <tr style=\"text-align: right;\">\n",
       "      <th></th>\n",
       "      <th>feature</th>\n",
       "      <th>miss_num</th>\n",
       "      <th>miss_rate</th>\n",
       "    </tr>\n",
       "  </thead>\n",
       "  <tbody>\n",
       "    <tr>\n",
       "      <th>0</th>\n",
       "      <td>MonthlyIncome</td>\n",
       "      <td>29731</td>\n",
       "      <td>0.198207</td>\n",
       "    </tr>\n",
       "    <tr>\n",
       "      <th>1</th>\n",
       "      <td>Dependents</td>\n",
       "      <td>3924</td>\n",
       "      <td>0.026160</td>\n",
       "    </tr>\n",
       "    <tr>\n",
       "      <th>2</th>\n",
       "      <td>Label</td>\n",
       "      <td>0</td>\n",
       "      <td>0.000000</td>\n",
       "    </tr>\n",
       "    <tr>\n",
       "      <th>3</th>\n",
       "      <td>RevolvingRatio</td>\n",
       "      <td>0</td>\n",
       "      <td>0.000000</td>\n",
       "    </tr>\n",
       "    <tr>\n",
       "      <th>4</th>\n",
       "      <td>Age</td>\n",
       "      <td>0</td>\n",
       "      <td>0.000000</td>\n",
       "    </tr>\n",
       "    <tr>\n",
       "      <th>5</th>\n",
       "      <td>30-59D</td>\n",
       "      <td>0</td>\n",
       "      <td>0.000000</td>\n",
       "    </tr>\n",
       "    <tr>\n",
       "      <th>6</th>\n",
       "      <td>DebtRatio</td>\n",
       "      <td>0</td>\n",
       "      <td>0.000000</td>\n",
       "    </tr>\n",
       "    <tr>\n",
       "      <th>7</th>\n",
       "      <td>OpenL</td>\n",
       "      <td>0</td>\n",
       "      <td>0.000000</td>\n",
       "    </tr>\n",
       "    <tr>\n",
       "      <th>8</th>\n",
       "      <td>90D</td>\n",
       "      <td>0</td>\n",
       "      <td>0.000000</td>\n",
       "    </tr>\n",
       "    <tr>\n",
       "      <th>9</th>\n",
       "      <td>RealEstate</td>\n",
       "      <td>0</td>\n",
       "      <td>0.000000</td>\n",
       "    </tr>\n",
       "    <tr>\n",
       "      <th>10</th>\n",
       "      <td>60-89D</td>\n",
       "      <td>0</td>\n",
       "      <td>0.000000</td>\n",
       "    </tr>\n",
       "  </tbody>\n",
       "</table>\n",
       "</div>"
      ],
      "text/plain": [
       "           feature  miss_num  miss_rate\n",
       "0    MonthlyIncome     29731   0.198207\n",
       "1       Dependents      3924   0.026160\n",
       "2            Label         0   0.000000\n",
       "3   RevolvingRatio         0   0.000000\n",
       "4              Age         0   0.000000\n",
       "5           30-59D         0   0.000000\n",
       "6        DebtRatio         0   0.000000\n",
       "7            OpenL         0   0.000000\n",
       "8              90D         0   0.000000\n",
       "9       RealEstate         0   0.000000\n",
       "10          60-89D         0   0.000000"
      ]
     },
     "execution_count": 4,
     "metadata": {},
     "output_type": "execute_result"
    }
   ],
   "source": [
    "# 查看数据缺失情况\n",
    "missing=loan.isnull().sum().sort_values(ascending=False).reset_index()\n",
    "missing.columns=['feature','miss_num']\n",
    "missing['miss_rate']=missing['miss_num']/loan.shape[0]\n",
    "missing"
   ]
  },
  {
   "cell_type": "code",
   "execution_count": 5,
   "id": "ffb86e4f",
   "metadata": {},
   "outputs": [],
   "source": [
    "# - - - - - - - 1、利用均值填充 - - - - - - -\n",
    "# loan['MonthlyIncome'].fillna(loan['MonthlyIncome'].mean(),inplace=True)\n",
    "\n",
    "\n",
    "# - - - - - - - 2、利用模型预测值填充 - - - - - - -\n",
    "\n",
    "# 选取MonthlyIncome和其他非缺失变量作为训练模型数据\n",
    "income=loan.iloc[:,[5,1,2,3,4,6,7,8,9]]\n",
    "\n",
    "# MonthlyIncome非空作为训练集\n",
    "income_train=income.loc[income['MonthlyIncome'].notnull()]\n",
    "# MonthlyIncome为空作为测试集\n",
    "income_test=income.loc[income['MonthlyIncome'].isnull()]\n",
    "\n",
    "# MonthlyIncome作为模型因变量，其他非缺失变量作为模型自变量\n",
    "X=income_train.iloc[:,1:]\n",
    "Y=income_train.iloc[:,0]\n",
    "\n",
    "RFR=RandomForestRegressor(random_state=0,n_estimators=200,max_depth=3,n_jobs=-1)\n",
    "RFR.fit(X,Y)\n",
    "\n",
    "income_pred=RFR.predict(income_test.iloc[:,1:])\n",
    "loan.loc[loan['MonthlyIncome'].isnull(),'MonthlyIncome']=income_pred"
   ]
  },
  {
   "cell_type": "code",
   "execution_count": 6,
   "id": "1fcf24c9",
   "metadata": {},
   "outputs": [],
   "source": [
    "loan['Dependents'].fillna(loan['Dependents'].mode()[0],inplace=True)"
   ]
  },
  {
   "cell_type": "markdown",
   "id": "40635505",
   "metadata": {},
   "source": [
    "### 3.2 异常值预处理"
   ]
  },
  {
   "cell_type": "code",
   "execution_count": 7,
   "id": "8d8b432b",
   "metadata": {},
   "outputs": [
    {
     "data": {
      "text/plain": [
       "'\\n    由于变量需要进行分箱，分箱后异常值对于模型的影响度较小，\\n    可不对异常值进行处理，故对异常值继续简单的分析\\n'"
      ]
     },
     "execution_count": 7,
     "metadata": {},
     "output_type": "execute_result"
    }
   ],
   "source": [
    "\"\"\"\n",
    "    由于变量需要进行分箱，分箱后异常值对于模型的影响度较小，\n",
    "    可不对异常值进行处理，故对异常值进行简单的分析\n",
    "\"\"\"\n",
    "\n",
    "\n",
    "# fig=plt.figure(figsize=(15,4))\n",
    "# ax1=fig.add_subplot(211)\n",
    "# ax1.boxplot(loan['RevolvingRatio'],vert=False,showmeans=True,flierprops = {\"marker\":\"o\",\"markerfacecolor\":\"steelblue\"})\n",
    "# ax1.set_title('RevolvingRatio')\n",
    "\n",
    "# ax2=fig.add_subplot(212)\n",
    "# ax2.boxplot(loan['DebtRatio'],vert=False,showmeans=True,flierprops = {\"marker\":\"o\",\"markerfacecolor\":\"steelblue\"})\n",
    "# ax2.set_title('DebtRatio')\n",
    "\n",
    "# plt.tight_layout(pad=1.5)\n",
    "# plt.show()\n",
    "\n",
    "\n",
    "\n",
    "\n",
    "# fig=plt.figure(figsize=(15,6))\n",
    "# ax1=fig.add_subplot(311)\n",
    "# ax1.boxplot(loan['30-59D'],vert=False,showmeans=True,flierprops = {\"marker\":\"o\",\"markerfacecolor\":\"steelblue\"})\n",
    "# ax1.set_title('30-59D')\n",
    "\n",
    "# ax2=fig.add_subplot(312)\n",
    "# ax2.boxplot(loan['60-89D'],vert=False,showmeans=True,flierprops = {\"marker\":\"o\",\"markerfacecolor\":\"steelblue\"})\n",
    "# ax2.set_title('60-89D')\n",
    "\n",
    "# ax3=fig.add_subplot(313)\n",
    "# ax3.boxplot(loan['90D'],vert=False,showmeans=True,flierprops = {\"marker\":\"o\",\"markerfacecolor\":\"steelblue\"})\n",
    "# ax3.set_title('90D')\n",
    "\n",
    "# plt.tight_layout(pad=1.5)\n",
    "# plt.show()\n",
    "\n",
    "\n",
    "\n",
    "\n",
    "# fig=plt.figure(figsize=(15,4))\n",
    "# ax1=fig.add_subplot(211)\n",
    "# ax1.boxplot(loan['Age'],vert=False\n",
    "#             ,showmeans=True\n",
    "# #             ,showbox=True\n",
    "#             ,meanprops={'color': 'blue', 'linewidth': '1.5'}\n",
    "#             ,medianprops={'color': 'black', 'linewidth': '1.5'}\n",
    "#             ,flierprops={\"marker\": \"o\", \"markerfacecolor\": \"red\", \"markersize\": 10})\n",
    "# ax1.set_title('Age')\n",
    "\n",
    "# ax2=fig.add_subplot(212)\n",
    "# ax2.boxplot(loan['Dependents']\n",
    "#             ,vert=False\n",
    "#             ,showmeans=True\n",
    "#             ,flierprops={\"marker\": \"o\", \"markerfacecolor\": \"red\", \"markersize\": 10})\n",
    "# ax2.set_title('Dependents')\n",
    "\n",
    "# plt.tight_layout(pad=1.5)\n",
    "# plt.show()\n",
    "\n",
    "\n",
    "\n",
    "\n",
    "# fig=plt.figure(figsize=(15,6))\n",
    "# ax1=fig.add_subplot(311)\n",
    "# ax1.boxplot(loan['MonthlyIncome'],vert=False,showmeans=True,flierprops = {\"marker\":\"o\",\"markerfacecolor\":\"steelblue\"})\n",
    "# ax1.set_title('MonthlyIncome')\n",
    "\n",
    "# ax2=fig.add_subplot(312)\n",
    "# ax2.boxplot(loan['OpenL'],vert=False,showmeans=True,flierprops = {\"marker\":\"o\",\"markerfacecolor\":\"steelblue\"})\n",
    "# ax2.set_title('OpenL')\n",
    "\n",
    "# ax3=fig.add_subplot(313)\n",
    "# ax3.boxplot(loan['RealEstate'],vert=False,showmeans=True,flierprops = {\"marker\":\"o\",\"markerfacecolor\":\"steelblue\"})\n",
    "# ax3.set_title('RealEstate')\n",
    "\n",
    "# plt.tight_layout(pad=1.5)\n",
    "# plt.show()\n"
   ]
  },
  {
   "cell_type": "markdown",
   "id": "3fab2170",
   "metadata": {},
   "source": [
    "## 4、变量相关性分析"
   ]
  },
  {
   "cell_type": "code",
   "execution_count": 8,
   "id": "d4c2751d",
   "metadata": {},
   "outputs": [
    {
     "data": {
      "text/plain": [
       "<AxesSubplot:>"
      ]
     },
     "execution_count": 8,
     "metadata": {},
     "output_type": "execute_result"
    },
    {
     "data": {
      "image/png": "[encoded data removed]",
      "text/plain": [
       "<Figure size 720x720 with 2 Axes>"
      ]
     },
     "metadata": {
      "needs_background": "light"
     },
     "output_type": "display_data"
    }
   ],
   "source": [
    "feature=loan.columns[:]\n",
    "feature=list(feature)\n",
    "corr=loan[feature].corr()\n",
    "\n",
    "plt.figure(figsize=(10,10))\n",
    "sns.heatmap(corr,square=True,annot=True,cmap=\"YlGnBu\")"
   ]
  },
  {
   "cell_type": "code",
   "execution_count": 9,
   "id": "5e197be6",
   "metadata": {},
   "outputs": [],
   "source": [
    "\"\"\"\n",
    "变量30-59D、60-89D、90D三个直接的相关性很高，根据业务理解可将三个变量相加合成一个变量预期30天以上的次数\n",
    "\"\"\"\n",
    "loan['D30']=loan['30-59D']+loan['60-89D']+loan['90D']\n",
    "\n",
    "loan1=loan.drop(['30-59D','60-89D','90D'],axis=1)"
   ]
  },
  {
   "cell_type": "markdown",
   "id": "785c38a1",
   "metadata": {},
   "source": [
    "## 5、数据分箱"
   ]
  },
  {
   "cell_type": "markdown",
   "id": "38b8a178",
   "metadata": {},
   "source": [
    "### 5.1 决策树分箱"
   ]
  },
  {
   "cell_type": "code",
   "execution_count": 10,
   "id": "02c35b14",
   "metadata": {},
   "outputs": [
    {
     "data": {
      "image/png": "[encoded data removed]",
      "text/plain": [
       "<Figure size 576x432 with 1 Axes>"
      ]
     },
     "metadata": {
      "needs_background": "light"
     },
     "output_type": "display_data"
    }
   ],
   "source": [
    "RevolvingRatio_result,RevolvingRatio_bins,RevolvingRatio_woe,RevolvingRatio_iv=dt_bins(loan1.RevolvingRatio,loan1.Label,5)"
   ]
  },
  {
   "cell_type": "code",
   "execution_count": 11,
   "id": "baa7eaae",
   "metadata": {},
   "outputs": [
    {
     "data": {
      "image/png": "[encoded data removed]",
      "text/plain": [
       "<Figure size 576x432 with 1 Axes>"
      ]
     },
     "metadata": {
      "needs_background": "light"
     },
     "output_type": "display_data"
    }
   ],
   "source": [
    "age_result,age_bins,age_woe,age_iv=dt_bins(loan1.Age,loan1.Label,6)"
   ]
  },
  {
   "cell_type": "code",
   "execution_count": 12,
   "id": "68ddc9c6",
   "metadata": {},
   "outputs": [
    {
     "data": {
      "image/png": "[encoded data removed]",
      "text/plain": [
       "<Figure size 576x432 with 1 Axes>"
      ]
     },
     "metadata": {
      "needs_background": "light"
     },
     "output_type": "display_data"
    }
   ],
   "source": [
    "# # 自动分箱\n",
    "# DebtRatio_result,DebtRatio_bins,DebtRatio_woe,DebtRatio_iv=dt_bins(loan1.DebtRatio,loan1.Label,4)\n",
    "\n",
    "# 手动分箱\n",
    "DebtRatio_bins=[-np.inf,0.3,0.423,0.5,np.inf]\n",
    "DebtRatio_result,DebtRatio_woe,DebtRatio_iv=cal_woe(loan1.DebtRatio,loan1.Label,DebtRatio_bins)"
   ]
  },
  {
   "cell_type": "code",
   "execution_count": 13,
   "id": "3a9e2d39",
   "metadata": {},
   "outputs": [
    {
     "data": {
      "image/png": "[encoded data removed]",
      "text/plain": [
       "<Figure size 576x432 with 1 Axes>"
      ]
     },
     "metadata": {
      "needs_background": "light"
     },
     "output_type": "display_data"
    }
   ],
   "source": [
    "MonthlyIncome_result,MonthlyIncome_bins,MonthlyIncome_woe,MonthlyIncome_iv=dt_bins(loan1.MonthlyIncome,loan1.Label,3)"
   ]
  },
  {
   "cell_type": "code",
   "execution_count": 14,
   "id": "e0c8510e",
   "metadata": {},
   "outputs": [
    {
     "data": {
      "image/png": "[encoded data removed]",
      "text/plain": [
       "<Figure size 576x432 with 1 Axes>"
      ]
     },
     "metadata": {
      "needs_background": "light"
     },
     "output_type": "display_data"
    }
   ],
   "source": [
    "# 自动分箱\n",
    "# OpenL_result,OpenL_bins,OpenL_woe,OpenL_iv=dt_bins(loan1.OpenL,loan1.Label,5)\n",
    "\n",
    "# 手动分箱\n",
    "OpenL_bins=[-np.inf,2.5,3.5,5.5,np.inf]\n",
    "OpenL_result,OpenL_woe,OpenL_iv=cal_woe(loan1.OpenL,loan1.Label,OpenL_bins)"
   ]
  },
  {
   "cell_type": "code",
   "execution_count": 15,
   "id": "e0044e42",
   "metadata": {},
   "outputs": [
    {
     "data": {
      "image/png": "[encoded data removed]",
      "text/plain": [
       "<Figure size 576x432 with 1 Axes>"
      ]
     },
     "metadata": {
      "needs_background": "light"
     },
     "output_type": "display_data"
    }
   ],
   "source": [
    "\"\"\"\n",
    "RealEstate的woe不单调，故不采用该变量\n",
    "\"\"\"\n",
    "#  自动分箱\n",
    "RealEstate_result,RealEstate_bins,RealEstate_woe,RealEstate_iv=dt_bins(loan1.RealEstate,loan1.Label,4)\n",
    "\n",
    "# # 手动分箱\n",
    "# RealEstate_bins=[-np.inf,0.5,2.5,np.inf]\n",
    "# RealEstate_result,RealEstate_woe,RealEstate_iv=cal_woe(loan1.Label,loan1.RealEstate,RealEstate_bins)\n",
    "\n",
    "\n"
   ]
  },
  {
   "cell_type": "code",
   "execution_count": 16,
   "id": "e99192f7",
   "metadata": {},
   "outputs": [
    {
     "data": {
      "image/png": "[encoded data removed]",
      "text/plain": [
       "<Figure size 576x432 with 1 Axes>"
      ]
     },
     "metadata": {
      "needs_background": "light"
     },
     "output_type": "display_data"
    }
   ],
   "source": [
    "Dependents_result,Dependents_bins,Dependents_woe,Dependents_iv=dt_bins(loan1.Dependents,loan1.Label,5)"
   ]
  },
  {
   "cell_type": "code",
   "execution_count": 17,
   "id": "eb2e193c",
   "metadata": {},
   "outputs": [
    {
     "data": {
      "image/png": "[encoded data removed]",
      "text/plain": [
       "<Figure size 576x432 with 1 Axes>"
      ]
     },
     "metadata": {
      "needs_background": "light"
     },
     "output_type": "display_data"
    }
   ],
   "source": [
    "D30_result,D30_bins,D30_woe,D30_iv=dt_bins(loan1.D30,loan1.Label,5)"
   ]
  },
  {
   "cell_type": "markdown",
   "id": "c52d36d6",
   "metadata": {},
   "source": [
    "## 6、构建模型"
   ]
  },
  {
   "cell_type": "markdown",
   "id": "60646e32",
   "metadata": {},
   "source": [
    "### 6.1 变量选取"
   ]
  },
  {
   "cell_type": "code",
   "execution_count": 18,
   "id": "6f4c8b1c",
   "metadata": {},
   "outputs": [
    {
     "data": {
      "text/plain": [
       "\"\\n由于变量较少，故取iv>0.02的变量作为入模变量:\\n'RevolvingRatio', 'Age', 'DebtRatio', 'MonthlyIncome',\\n'OpenL', 'Dependents', 'D30'\\n\\n\""
      ]
     },
     "execution_count": 18,
     "metadata": {},
     "output_type": "execute_result"
    }
   ],
   "source": [
    "\"\"\"\n",
    "由于变量较少，故取iv>0.02的变量作为入模变量:\n",
    "'RevolvingRatio', 'Age', 'DebtRatio', 'MonthlyIncome',\n",
    "'OpenL', 'Dependents', 'D30'\n",
    "\n",
    "\"\"\" "
   ]
  },
  {
   "cell_type": "markdown",
   "id": "00b47ca4",
   "metadata": {},
   "source": [
    "### 6.2 变量WOE转换"
   ]
  },
  {
   "cell_type": "code",
   "execution_count": 19,
   "id": "72dd8eba",
   "metadata": {},
   "outputs": [],
   "source": [
    "loan2=loan1.copy()\n",
    "loan2['RevolvingRatio']=pd.cut(loan1['RevolvingRatio'],RevolvingRatio_bins,labels=RevolvingRatio_woe)\n",
    "loan2['Age']=pd.cut(loan1['Age'],age_bins,labels=age_woe)\n",
    "loan2['DebtRatio']=pd.cut(loan1['DebtRatio'],DebtRatio_bins,labels=DebtRatio_woe)\n",
    "loan2['MonthlyIncome']=pd.cut(loan1['MonthlyIncome'],MonthlyIncome_bins,labels=MonthlyIncome_woe)\n",
    "loan2['OpenL']=pd.cut(loan1['OpenL'],OpenL_bins,labels=OpenL_woe)\n",
    "loan2['Dependents']=pd.cut(loan1['Dependents'],Dependents_bins,labels=Dependents_woe)\n",
    "loan2['D30']=pd.cut(loan1['D30'],D30_bins,labels=D30_woe)"
   ]
  },
  {
   "cell_type": "markdown",
   "id": "5df151bb",
   "metadata": {},
   "source": [
    "### 6.3 模型训练与预测"
   ]
  },
  {
   "cell_type": "code",
   "execution_count": 20,
   "id": "abce0004",
   "metadata": {},
   "outputs": [],
   "source": [
    "loan_model=loan2[['Label','RevolvingRatio', 'Age', 'DebtRatio', 'MonthlyIncome','OpenL', 'Dependents', 'D30']]\n",
    "X=loan_model.iloc[:,1:]\n",
    "y=loan_model.iloc[:,:1]\n",
    "\n",
    "# 训练集与测试集选取\n",
    "X_train,X_test,y_train,y_test=train_test_split(X,y,test_size=0.3,random_state=0)\n",
    "\n",
    "\n",
    "# 模型训练与预测\n",
    "LR=LogisticRegression()\n",
    "LR.fit(X_train,y_train)\n",
    "\n",
    "y_pred=LR.predict(X_test)\n",
    "scores=LR.decision_function(X_test)"
   ]
  },
  {
   "cell_type": "markdown",
   "id": "e67ce632",
   "metadata": {},
   "source": [
    "### 6.4 模型评价指标"
   ]
  },
  {
   "cell_type": "code",
   "execution_count": 21,
   "id": "8343f6ad",
   "metadata": {},
   "outputs": [
    {
     "data": {
      "image/png": "[encoded data removed]",
      "text/plain": [
       "<Figure size 432x288 with 1 Axes>"
      ]
     },
     "metadata": {
      "needs_background": "light"
     },
     "output_type": "display_data"
    }
   ],
   "source": [
    "fpr, tpr, threshold = roc_curve(y_test, scores)\n",
    "auc_value = auc(fpr, tpr)\n",
    "\n",
    "plt.figure()   \n",
    "\n",
    "plt.plot(fpr,tpr, label=\"AUC = % 0.2f\" % auc_value)\n",
    "   \n",
    "plt.plot([0, 1], [0, 1], 'r--')\n",
    "plt.xlim([0, 1])\n",
    "plt.ylim([0, 1])\n",
    "plt.ylabel('TPR')\n",
    "plt.xlabel('FPR')\n",
    "plt.legend() \n",
    "plt.show()  "
   ]
  },
  {
   "cell_type": "code",
   "execution_count": 22,
   "id": "4b7a9f3e",
   "metadata": {},
   "outputs": [
    {
     "name": "stdout",
     "output_type": "stream",
     "text": [
      "模型准确率: 0.93\n",
      "模型KS值: 0.54\n"
     ]
    }
   ],
   "source": [
    "# 模型准确率与KS\n",
    "print(\"模型准确率:\",round(accuracy_score(y_test,y_pred),2))\n",
    "print(\"模型KS值:\",round(abs(fpr-tpr).max(),2))"
   ]
  },
  {
   "cell_type": "markdown",
   "id": "54385a37",
   "metadata": {},
   "source": [
    "## 7、评分卡设置"
   ]
  },
  {
   "cell_type": "markdown",
   "id": "e6a55aa6",
   "metadata": {},
   "source": [
    "### 7.1 基础分计算"
   ]
  },
  {
   "cell_type": "code",
   "execution_count": 23,
   "id": "b9a36687",
   "metadata": {},
   "outputs": [
    {
     "name": "stdout",
     "output_type": "stream",
     "text": [
      "评分卡的基础分为： 600.1121998141527\n"
     ]
    }
   ],
   "source": [
    "# 基础分计算\n",
    "\n",
    "# 好坏客户比例，约为14：1\n",
    "pct=(loan1['Label'].count()-loan1['Label'].sum())/loan1['Label'].sum()\n",
    "\n",
    "\"\"\"\n",
    "   设置theta为1/14,P=600,PDO=20,即信用卡评分为600分，当用户违约几率上升一倍时，评分降低20\n",
    "   B=PDO/ln2\n",
    "   A=P+B*ln(theta)\n",
    "\"\"\"\n",
    "\n",
    "B=20/np.log(2)\n",
    "A=600+B*np.log(1/14)\n",
    "\n",
    "\n",
    "Base_score=A-B*LR.intercept_[0]\n",
    "print(\"评分卡的基础分为：\", Base_score)"
   ]
  },
  {
   "cell_type": "markdown",
   "id": "1bbae1e3",
   "metadata": {},
   "source": [
    "### 7.2 变量分值计算"
   ]
  },
  {
   "cell_type": "code",
   "execution_count": 24,
   "id": "2617a6f0",
   "metadata": {},
   "outputs": [],
   "source": [
    "def score(coef,woe):\n",
    "    \"\"\"\n",
    "    :param coef: 模型中该变量的系数\n",
    "    :param woe: 该变量的woe值\n",
    "    \n",
    "    :return: 该变量各个值对应的分数scores\n",
    "    \"\"\"\n",
    "    scores=[]\n",
    "    for i in woe:\n",
    "        score=round(-B*coef*i)\n",
    "        scores.append(score)\n",
    "    return scores\n",
    "\n",
    "\n",
    "RevolvingRatio_scores=score(LR.coef_[0][0],RevolvingRatio_woe)\n",
    "\n",
    "age_scores=score(LR.coef_[0][1],age_woe)\n",
    "\n",
    "DebtRatio_scores=score(LR.coef_[0][2],DebtRatio_woe)\n",
    "\n",
    "MonthlyIncome_scores=score(LR.coef_[0][3],MonthlyIncome_woe)\n",
    "\n",
    "OpenL_scores=score(LR.coef_[0][4],OpenL_woe)\n",
    "\n",
    "Dependents_scores=score(LR.coef_[0][5],Dependents_woe)\n",
    "\n",
    "D30_scores=score(LR.coef_[0][6],D30_woe)"
   ]
  },
  {
   "cell_type": "code",
   "execution_count": 25,
   "id": "d95e7a06",
   "metadata": {},
   "outputs": [
    {
     "data": {
      "text/plain": [
       "[22, 5, -7, -15, -25]"
      ]
     },
     "execution_count": 25,
     "metadata": {},
     "output_type": "execute_result"
    }
   ],
   "source": [
    "RevolvingRatio_scores"
   ]
  },
  {
   "cell_type": "code",
   "execution_count": 26,
   "id": "dcaa2615",
   "metadata": {},
   "outputs": [
    {
     "data": {
      "text/plain": [
       "[1.2357288705225038,\n",
       " 0.28710250261027004,\n",
       " -0.3803051375067656,\n",
       " -0.8243614143130439,\n",
       " -1.3658988533290912]"
      ]
     },
     "execution_count": 26,
     "metadata": {},
     "output_type": "execute_result"
    }
   ],
   "source": [
    "RevolvingRatio_woe"
   ]
  },
  {
   "cell_type": "code",
   "execution_count": 27,
   "id": "d5d66812",
   "metadata": {},
   "outputs": [
    {
     "data": {
      "text/plain": [
       "[-0.1,\n",
       " 0.21776090562343597,\n",
       " 0.49497613310813904,\n",
       " 0.6981423199176788,\n",
       " 0.8596274554729462,\n",
       " 50708.1]"
      ]
     },
     "execution_count": 27,
     "metadata": {},
     "output_type": "execute_result"
    }
   ],
   "source": [
    "RevolvingRatio_bins"
   ]
  },
  {
   "cell_type": "markdown",
   "id": "e9adb88b",
   "metadata": {},
   "source": [
    "### 7.3 总分值计算"
   ]
  },
  {
   "cell_type": "code",
   "execution_count": 28,
   "id": "89a5775c",
   "metadata": {
    "scrolled": false
   },
   "outputs": [
    {
     "data": {
      "text/html": [
       "<div>\n",
       "<style scoped>\n",
       "    .dataframe tbody tr th:only-of-type {\n",
       "        vertical-align: middle;\n",
       "    }\n",
       "\n",
       "    .dataframe tbody tr th {\n",
       "        vertical-align: top;\n",
       "    }\n",
       "\n",
       "    .dataframe thead th {\n",
       "        text-align: right;\n",
       "    }\n",
       "</style>\n",
       "<table border=\"1\" class=\"dataframe\">\n",
       "  <thead>\n",
       "    <tr style=\"text-align: right;\">\n",
       "      <th></th>\n",
       "      <th>RevolvingRatio</th>\n",
       "      <th>Age</th>\n",
       "      <th>DebtRatio</th>\n",
       "      <th>MonthlyIncome</th>\n",
       "      <th>OpenL</th>\n",
       "      <th>Dependents</th>\n",
       "      <th>D30</th>\n",
       "      <th>Score</th>\n",
       "      <th>Label</th>\n",
       "    </tr>\n",
       "  </thead>\n",
       "  <tbody>\n",
       "    <tr>\n",
       "      <th>94795</th>\n",
       "      <td>22</td>\n",
       "      <td>4</td>\n",
       "      <td>-4</td>\n",
       "      <td>-2</td>\n",
       "      <td>0</td>\n",
       "      <td>1</td>\n",
       "      <td>21</td>\n",
       "      <td>642.0</td>\n",
       "      <td>0</td>\n",
       "    </tr>\n",
       "    <tr>\n",
       "      <th>135559</th>\n",
       "      <td>22</td>\n",
       "      <td>14</td>\n",
       "      <td>-4</td>\n",
       "      <td>-2</td>\n",
       "      <td>0</td>\n",
       "      <td>1</td>\n",
       "      <td>21</td>\n",
       "      <td>652.0</td>\n",
       "      <td>0</td>\n",
       "    </tr>\n",
       "    <tr>\n",
       "      <th>146612</th>\n",
       "      <td>22</td>\n",
       "      <td>-2</td>\n",
       "      <td>3</td>\n",
       "      <td>0</td>\n",
       "      <td>0</td>\n",
       "      <td>-3</td>\n",
       "      <td>-15</td>\n",
       "      <td>605.0</td>\n",
       "      <td>0</td>\n",
       "    </tr>\n",
       "    <tr>\n",
       "      <th>110273</th>\n",
       "      <td>22</td>\n",
       "      <td>14</td>\n",
       "      <td>4</td>\n",
       "      <td>-2</td>\n",
       "      <td>0</td>\n",
       "      <td>1</td>\n",
       "      <td>21</td>\n",
       "      <td>660.0</td>\n",
       "      <td>0</td>\n",
       "    </tr>\n",
       "    <tr>\n",
       "      <th>131629</th>\n",
       "      <td>-25</td>\n",
       "      <td>-2</td>\n",
       "      <td>-2</td>\n",
       "      <td>3</td>\n",
       "      <td>0</td>\n",
       "      <td>-3</td>\n",
       "      <td>21</td>\n",
       "      <td>592.0</td>\n",
       "      <td>0</td>\n",
       "    </tr>\n",
       "    <tr>\n",
       "      <th>...</th>\n",
       "      <td>...</td>\n",
       "      <td>...</td>\n",
       "      <td>...</td>\n",
       "      <td>...</td>\n",
       "      <td>...</td>\n",
       "      <td>...</td>\n",
       "      <td>...</td>\n",
       "      <td>...</td>\n",
       "      <td>...</td>\n",
       "    </tr>\n",
       "    <tr>\n",
       "      <th>41993</th>\n",
       "      <td>5</td>\n",
       "      <td>14</td>\n",
       "      <td>4</td>\n",
       "      <td>0</td>\n",
       "      <td>0</td>\n",
       "      <td>-1</td>\n",
       "      <td>21</td>\n",
       "      <td>643.0</td>\n",
       "      <td>0</td>\n",
       "    </tr>\n",
       "    <tr>\n",
       "      <th>97639</th>\n",
       "      <td>22</td>\n",
       "      <td>-2</td>\n",
       "      <td>-4</td>\n",
       "      <td>-2</td>\n",
       "      <td>0</td>\n",
       "      <td>-2</td>\n",
       "      <td>21</td>\n",
       "      <td>633.0</td>\n",
       "      <td>0</td>\n",
       "    </tr>\n",
       "    <tr>\n",
       "      <th>95939</th>\n",
       "      <td>-25</td>\n",
       "      <td>10</td>\n",
       "      <td>-4</td>\n",
       "      <td>-2</td>\n",
       "      <td>0</td>\n",
       "      <td>1</td>\n",
       "      <td>-15</td>\n",
       "      <td>565.0</td>\n",
       "      <td>1</td>\n",
       "    </tr>\n",
       "    <tr>\n",
       "      <th>117952</th>\n",
       "      <td>22</td>\n",
       "      <td>14</td>\n",
       "      <td>4</td>\n",
       "      <td>-2</td>\n",
       "      <td>0</td>\n",
       "      <td>1</td>\n",
       "      <td>21</td>\n",
       "      <td>660.0</td>\n",
       "      <td>0</td>\n",
       "    </tr>\n",
       "    <tr>\n",
       "      <th>43567</th>\n",
       "      <td>-15</td>\n",
       "      <td>-4</td>\n",
       "      <td>-2</td>\n",
       "      <td>0</td>\n",
       "      <td>0</td>\n",
       "      <td>1</td>\n",
       "      <td>-47</td>\n",
       "      <td>533.0</td>\n",
       "      <td>1</td>\n",
       "    </tr>\n",
       "  </tbody>\n",
       "</table>\n",
       "<p>105000 rows × 9 columns</p>\n",
       "</div>"
      ],
      "text/plain": [
       "        RevolvingRatio  Age  DebtRatio  MonthlyIncome  OpenL  Dependents  D30  \\\n",
       "94795               22    4         -4             -2      0           1   21   \n",
       "135559              22   14         -4             -2      0           1   21   \n",
       "146612              22   -2          3              0      0          -3  -15   \n",
       "110273              22   14          4             -2      0           1   21   \n",
       "131629             -25   -2         -2              3      0          -3   21   \n",
       "...                ...  ...        ...            ...    ...         ...  ...   \n",
       "41993                5   14          4              0      0          -1   21   \n",
       "97639               22   -2         -4             -2      0          -2   21   \n",
       "95939              -25   10         -4             -2      0           1  -15   \n",
       "117952              22   14          4             -2      0           1   21   \n",
       "43567              -15   -4         -2              0      0           1  -47   \n",
       "\n",
       "        Score  Label  \n",
       "94795   642.0      0  \n",
       "135559  652.0      0  \n",
       "146612  605.0      0  \n",
       "110273  660.0      0  \n",
       "131629  592.0      0  \n",
       "...       ...    ...  \n",
       "41993   643.0      0  \n",
       "97639   633.0      0  \n",
       "95939   565.0      1  \n",
       "117952  660.0      0  \n",
       "43567   533.0      1  \n",
       "\n",
       "[105000 rows x 9 columns]"
      ]
     },
     "execution_count": 28,
     "metadata": {},
     "output_type": "execute_result"
    }
   ],
   "source": [
    "# 训练集分数\n",
    "\n",
    "score_train=X_train.copy()\n",
    "\n",
    "# 计算变量各个值对应的分值\n",
    "score_train['RevolvingRatio']=score_train['RevolvingRatio'].replace(RevolvingRatio_woe,RevolvingRatio_scores)\n",
    "score_train['Age']=score_train['Age'].replace(age_woe,age_scores)\n",
    "score_train['DebtRatio']=score_train['DebtRatio'].replace(DebtRatio_woe,DebtRatio_scores)\n",
    "score_train['MonthlyIncome']=score_train['MonthlyIncome'].replace(MonthlyIncome_woe,MonthlyIncome_scores)\n",
    "score_train['OpenL']=score_train['OpenL'].replace(OpenL_woe,OpenL_scores)\n",
    "score_train['Dependents']=score_train['Dependents'].replace(Dependents_woe,Dependents_scores)\n",
    "score_train['D30']=score_train['D30'].replace(D30_woe,D30_scores)\n",
    "\n",
    "# 计算总分\n",
    "score_train['Score']=round(Base_score+score_train['RevolvingRatio']+score_train['Age']+score_train['DebtRatio']+score_train['MonthlyIncome']+score_train['OpenL']+score_train['Dependents']+score_train['D30'])\n",
    "score_train['Label']=y_train\n",
    "score_train"
   ]
  },
  {
   "cell_type": "code",
   "execution_count": 31,
   "id": "dc2283c6",
   "metadata": {},
   "outputs": [
    {
     "data": {
      "image/png": "[encoded data removed]",
      "text/plain": [
       "<Figure size 432x288 with 1 Axes>"
      ]
     },
     "metadata": {
      "needs_background": "light"
     },
     "output_type": "display_data"
    }
   ],
   "source": [
    "Bad = score_train[score_train['Label']==1]['Score']\n",
    "Good = score_train[score_train['Label']==0]['Score']\n",
    "sns.kdeplot(Bad,shade=True,label='坏用户',color='red')\n",
    "sns.kdeplot(Good,shade=True,label='好用户',color ='seagreen')\n",
    "# sns.distplot(Bad)\n",
    "plt.axvline(x=600)\n",
    "plt.legend()\n",
    "plt.show()"
   ]
  },
  {
   "cell_type": "code",
   "execution_count": 29,
   "id": "023c05e3",
   "metadata": {},
   "outputs": [
    {
     "data": {
      "text/html": [
       "<div>\n",
       "<style scoped>\n",
       "    .dataframe tbody tr th:only-of-type {\n",
       "        vertical-align: middle;\n",
       "    }\n",
       "\n",
       "    .dataframe tbody tr th {\n",
       "        vertical-align: top;\n",
       "    }\n",
       "\n",
       "    .dataframe thead th {\n",
       "        text-align: right;\n",
       "    }\n",
       "</style>\n",
       "<table border=\"1\" class=\"dataframe\">\n",
       "  <thead>\n",
       "    <tr style=\"text-align: right;\">\n",
       "      <th></th>\n",
       "      <th>RevolvingRatio</th>\n",
       "      <th>Age</th>\n",
       "      <th>DebtRatio</th>\n",
       "      <th>MonthlyIncome</th>\n",
       "      <th>OpenL</th>\n",
       "      <th>Dependents</th>\n",
       "      <th>D30</th>\n",
       "      <th>Score</th>\n",
       "      <th>Label</th>\n",
       "    </tr>\n",
       "  </thead>\n",
       "  <tbody>\n",
       "    <tr>\n",
       "      <th>16269</th>\n",
       "      <td>22</td>\n",
       "      <td>4</td>\n",
       "      <td>-4</td>\n",
       "      <td>3</td>\n",
       "      <td>0</td>\n",
       "      <td>1</td>\n",
       "      <td>21</td>\n",
       "      <td>647.0</td>\n",
       "      <td>0</td>\n",
       "    </tr>\n",
       "    <tr>\n",
       "      <th>140471</th>\n",
       "      <td>-25</td>\n",
       "      <td>-4</td>\n",
       "      <td>-4</td>\n",
       "      <td>3</td>\n",
       "      <td>0</td>\n",
       "      <td>1</td>\n",
       "      <td>21</td>\n",
       "      <td>592.0</td>\n",
       "      <td>0</td>\n",
       "    </tr>\n",
       "    <tr>\n",
       "      <th>78683</th>\n",
       "      <td>22</td>\n",
       "      <td>-2</td>\n",
       "      <td>-4</td>\n",
       "      <td>-2</td>\n",
       "      <td>0</td>\n",
       "      <td>-1</td>\n",
       "      <td>21</td>\n",
       "      <td>634.0</td>\n",
       "      <td>0</td>\n",
       "    </tr>\n",
       "    <tr>\n",
       "      <th>2605</th>\n",
       "      <td>5</td>\n",
       "      <td>10</td>\n",
       "      <td>-4</td>\n",
       "      <td>-2</td>\n",
       "      <td>0</td>\n",
       "      <td>1</td>\n",
       "      <td>21</td>\n",
       "      <td>631.0</td>\n",
       "      <td>0</td>\n",
       "    </tr>\n",
       "    <tr>\n",
       "      <th>81156</th>\n",
       "      <td>5</td>\n",
       "      <td>-7</td>\n",
       "      <td>-4</td>\n",
       "      <td>-2</td>\n",
       "      <td>0</td>\n",
       "      <td>1</td>\n",
       "      <td>21</td>\n",
       "      <td>614.0</td>\n",
       "      <td>0</td>\n",
       "    </tr>\n",
       "    <tr>\n",
       "      <th>...</th>\n",
       "      <td>...</td>\n",
       "      <td>...</td>\n",
       "      <td>...</td>\n",
       "      <td>...</td>\n",
       "      <td>...</td>\n",
       "      <td>...</td>\n",
       "      <td>...</td>\n",
       "      <td>...</td>\n",
       "      <td>...</td>\n",
       "    </tr>\n",
       "    <tr>\n",
       "      <th>148024</th>\n",
       "      <td>22</td>\n",
       "      <td>4</td>\n",
       "      <td>-4</td>\n",
       "      <td>-2</td>\n",
       "      <td>0</td>\n",
       "      <td>1</td>\n",
       "      <td>21</td>\n",
       "      <td>642.0</td>\n",
       "      <td>0</td>\n",
       "    </tr>\n",
       "    <tr>\n",
       "      <th>59238</th>\n",
       "      <td>-15</td>\n",
       "      <td>-2</td>\n",
       "      <td>-4</td>\n",
       "      <td>0</td>\n",
       "      <td>0</td>\n",
       "      <td>1</td>\n",
       "      <td>21</td>\n",
       "      <td>601.0</td>\n",
       "      <td>0</td>\n",
       "    </tr>\n",
       "    <tr>\n",
       "      <th>111773</th>\n",
       "      <td>22</td>\n",
       "      <td>-4</td>\n",
       "      <td>-2</td>\n",
       "      <td>3</td>\n",
       "      <td>0</td>\n",
       "      <td>-2</td>\n",
       "      <td>21</td>\n",
       "      <td>638.0</td>\n",
       "      <td>0</td>\n",
       "    </tr>\n",
       "    <tr>\n",
       "      <th>107702</th>\n",
       "      <td>-25</td>\n",
       "      <td>-7</td>\n",
       "      <td>3</td>\n",
       "      <td>-2</td>\n",
       "      <td>-3</td>\n",
       "      <td>1</td>\n",
       "      <td>21</td>\n",
       "      <td>588.0</td>\n",
       "      <td>0</td>\n",
       "    </tr>\n",
       "    <tr>\n",
       "      <th>89084</th>\n",
       "      <td>-25</td>\n",
       "      <td>14</td>\n",
       "      <td>4</td>\n",
       "      <td>0</td>\n",
       "      <td>-3</td>\n",
       "      <td>1</td>\n",
       "      <td>21</td>\n",
       "      <td>612.0</td>\n",
       "      <td>0</td>\n",
       "    </tr>\n",
       "  </tbody>\n",
       "</table>\n",
       "<p>45000 rows × 9 columns</p>\n",
       "</div>"
      ],
      "text/plain": [
       "        RevolvingRatio  Age  DebtRatio  MonthlyIncome  OpenL  Dependents  D30  \\\n",
       "16269               22    4         -4              3      0           1   21   \n",
       "140471             -25   -4         -4              3      0           1   21   \n",
       "78683               22   -2         -4             -2      0          -1   21   \n",
       "2605                 5   10         -4             -2      0           1   21   \n",
       "81156                5   -7         -4             -2      0           1   21   \n",
       "...                ...  ...        ...            ...    ...         ...  ...   \n",
       "148024              22    4         -4             -2      0           1   21   \n",
       "59238              -15   -2         -4              0      0           1   21   \n",
       "111773              22   -4         -2              3      0          -2   21   \n",
       "107702             -25   -7          3             -2     -3           1   21   \n",
       "89084              -25   14          4              0     -3           1   21   \n",
       "\n",
       "        Score  Label  \n",
       "16269   647.0      0  \n",
       "140471  592.0      0  \n",
       "78683   634.0      0  \n",
       "2605    631.0      0  \n",
       "81156   614.0      0  \n",
       "...       ...    ...  \n",
       "148024  642.0      0  \n",
       "59238   601.0      0  \n",
       "111773  638.0      0  \n",
       "107702  588.0      0  \n",
       "89084   612.0      0  \n",
       "\n",
       "[45000 rows x 9 columns]"
      ]
     },
     "execution_count": 29,
     "metadata": {},
     "output_type": "execute_result"
    }
   ],
   "source": [
    "# 测试集分数\n",
    "score_test=X_test.copy()\n",
    "\n",
    "# 计算变量各个值对应的分值\n",
    "score_test['RevolvingRatio']=score_test['RevolvingRatio'].replace(RevolvingRatio_woe,RevolvingRatio_scores)\n",
    "score_test['Age']=score_test['Age'].replace(age_woe,age_scores)\n",
    "score_test['DebtRatio']=score_test['DebtRatio'].replace(DebtRatio_woe,DebtRatio_scores)\n",
    "score_test['MonthlyIncome']=score_test['MonthlyIncome'].replace(MonthlyIncome_woe,MonthlyIncome_scores)\n",
    "score_test['OpenL']=score_test['OpenL'].replace(OpenL_woe,OpenL_scores)\n",
    "score_test['Dependents']=score_test['Dependents'].replace(Dependents_woe,Dependents_scores)\n",
    "score_test['D30']=score_test['D30'].replace(D30_woe,D30_scores)\n",
    "\n",
    "# 计算总分\n",
    "score_test['Score']=round(Base_score+score_test['RevolvingRatio']+score_test['Age']+score_test['DebtRatio']+score_test['MonthlyIncome']+score_test['OpenL']+score_test['Dependents']+score_test['D30'])\n",
    "score_test['Label']=y_test\n",
    "score_test"
   ]
  },
  {
   "cell_type": "code",
   "execution_count": 30,
   "id": "41060b6b",
   "metadata": {},
   "outputs": [
    {
     "name": "stdout",
     "output_type": "stream",
     "text": [
      "<class 'pandas.core.frame.DataFrame'>\n",
      "RangeIndex: 101503 entries, 0 to 101502\n",
      "Data columns (total 11 columns):\n",
      " #   Column          Non-Null Count   Dtype  \n",
      "---  ------          --------------   -----  \n",
      " 0   Label           0 non-null       float64\n",
      " 1   RevolvingRatio  101503 non-null  float64\n",
      " 2   Age             101503 non-null  int64  \n",
      " 3   30-59D          101503 non-null  int64  \n",
      " 4   DebtRatio       101503 non-null  float64\n",
      " 5   MonthlyIncome   81400 non-null   float64\n",
      " 6   OpenL           101503 non-null  int64  \n",
      " 7   90D             101503 non-null  int64  \n",
      " 8   RealEstate      101503 non-null  int64  \n",
      " 9   60-89D          101503 non-null  int64  \n",
      " 10  Dependents      98877 non-null   float64\n",
      "dtypes: float64(5), int64(6)\n",
      "memory usage: 8.5 MB\n"
     ]
    }
   ],
   "source": [
    "# 验证集数据分析\n",
    "loan_test=pd.read_csv(\"cs-test.csv\")\n",
    "loan_test=loan_test.iloc[:,1:]\n",
    "loan_test.columns=['Label', 'RevolvingRatio', 'Age', '30-59D', 'DebtRatio', 'MonthlyIncome',\n",
    "                'OpenL', '90D', 'RealEstate', '60-89D', 'Dependents'] \n",
    "loan_test.info()"
   ]
  },
  {
   "cell_type": "markdown",
   "id": "ee5656ca",
   "metadata": {},
   "source": [
    "### 利用变量分值与变量分箱对验证集进行分数计算"
   ]
  },
  {
   "cell_type": "code",
   "execution_count": null,
   "id": "bacde363",
   "metadata": {},
   "outputs": [],
   "source": []
  }
 ],
 "metadata": {
  "kernelspec": {
   "display_name": "Python 3",
   "language": "python",
   "name": "python3"
  },
  "language_info": {
   "codemirror_mode": {
    "name": "ipython",
    "version": 3
   },
   "file_extension": ".py",
   "mimetype": "text/x-python",
   "name": "python",
   "nbconvert_exporter": "python",
   "pygments_lexer": "ipython3",
   "version": "3.8.8"
  }
 },
 "nbformat": 4,
 "nbformat_minor": 5
}
